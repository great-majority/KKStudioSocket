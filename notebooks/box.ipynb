{
 "cells": [
  {
   "cell_type": "code",
   "execution_count": null,
   "id": "6287d4f5",
   "metadata": {},
   "outputs": [],
   "source": [
    "import time\n",
    "import json\n",
    "import nest_asyncio\n",
    "import asyncio\n",
    "import websockets\n",
    "import numpy as np\n",
    "import math\n",
    "import random\n",
    "import colorsys\n",
    "from tqdm.notebook import tqdm\n",
    "nest_asyncio.apply()"
   ]
  },
  {
   "cell_type": "code",
   "execution_count": null,
   "id": "f080eaaf",
   "metadata": {},
   "outputs": [],
   "source": [
    "async def websocket_test(payload, indent=None, quiet=False):\n",
    "    uri = \"ws://127.0.0.1:8765/ws\"\n",
    "    async with websockets.connect(uri) as ws:\n",
    "        await ws.send(json.dumps(payload))\n",
    "        if not quiet:\n",
    "            print(\"✅ send:\", payload)\n",
    "\n",
    "        try:\n",
    "            # 5 秒以内に返事が来なければ TimeoutError\n",
    "            response = await asyncio.wait_for(ws.recv(), timeout=5)\n",
    "            if not quiet:\n",
    "                if indent:\n",
    "                    print(\"📨 recv: \", json.dumps(json.loads(response), indent=indent, ensure_ascii=False))\n",
    "                else:\n",
    "                    print(\"📨 recv:\", response)\n",
    "            return json.loads(response)\n",
    "        except asyncio.TimeoutError:\n",
    "            print(\"⏰ タイムアウト（5 秒以内にメッセージが来ませんでした）\")"
   ]
  },
  {
   "cell_type": "code",
   "execution_count": 12,
   "id": "b30fb5c4",
   "metadata": {},
   "outputs": [
    {
     "name": "stdout",
     "output_type": "stream",
     "text": [
      "✅ send: {'type': 'tree'}\n",
      "📨 recv: [{\"name\":\"篠崎 遥\",\"objectInfo\":{\"id\":0,\"type\":\"OCICharFemale\"},\"children\":[]},{\"name\":\"center\",\"objectInfo\":{\"id\":2212,\"type\":\"OCIFolder\"},\"children\":[{\"name\":\"キューブ(通常）\",\"objectInfo\":{\"id\":2213,\"type\":\"OCIItem\"},\"children\":[]},{\"name\":\"キューブ(通常）\",\"objectInfo\":{\"id\":2215,\"type\":\"OCIItem\"},\"children\":[]},{\"name\":\"キューブ(通常）\",\"objectInfo\":{\"id\":2217,\"type\":\"OCIItem\"},\"children\":[]},{\"name\":\"キューブ(通常）\",\"objectInfo\":{\"id\":2219,\"type\":\"OCIItem\"},\"children\":[]},{\"name\":\"キューブ(通常）\",\"objectInfo\":{\"id\":2221,\"type\":\"OCIItem\"},\"children\":[]},{\"name\":\"キューブ(通常）\",\"objectInfo\":{\"id\":2223,\"type\":\"OCIItem\"},\"children\":[]},{\"name\":\"キューブ(通常）\",\"objectInfo\":{\"id\":2225,\"type\":\"OCIItem\"},\"children\":[]},{\"name\":\"キューブ(通常）\",\"objectInfo\":{\"id\":2227,\"type\":\"OCIItem\"},\"children\":[]},{\"name\":\"キューブ(通常）\",\"objectInfo\":{\"id\":2229,\"type\":\"OCIItem\"},\"children\":[]},{\"name\":\"キューブ(通常）\",\"objectInfo\":{\"id\":2231,\"type\":\"OCIItem\"},\"children\":[]},{\"name\":\"キューブ(通常）\",\"objectInfo\":{\"id\":2233,\"type\":\"OCIItem\"},\"children\":[]},{\"name\":\"キューブ(通常）\",\"objectInfo\":{\"id\":2235,\"type\":\"OCIItem\"},\"children\":[]},{\"name\":\"キューブ(通常）\",\"objectInfo\":{\"id\":2237,\"type\":\"OCIItem\"},\"children\":[]},{\"name\":\"キューブ(通常）\",\"objectInfo\":{\"id\":2239,\"type\":\"OCIItem\"},\"children\":[]},{\"name\":\"キューブ(通常）\",\"objectInfo\":{\"id\":2241,\"type\":\"OCIItem\"},\"children\":[]},{\"name\":\"キューブ(通常）\",\"objectInfo\":{\"id\":2243,\"type\":\"OCIItem\"},\"children\":[]},{\"name\":\"キューブ(通常）\",\"objectInfo\":{\"id\":2245,\"type\":\"OCIItem\"},\"children\":[]},{\"name\":\"キューブ(通常）\",\"objectInfo\":{\"id\":2247,\"type\":\"OCIItem\"},\"children\":[]},{\"name\":\"キューブ(通常）\",\"objectInfo\":{\"id\":2249,\"type\":\"OCIItem\"},\"children\":[]},{\"name\":\"キューブ(通常）\",\"objectInfo\":{\"id\":2251,\"type\":\"OCIItem\"},\"children\":[]},{\"name\":\"キューブ(通常）\",\"objectInfo\":{\"id\":2253,\"type\":\"OCIItem\"},\"children\":[]},{\"name\":\"キューブ(通常）\",\"objectInfo\":{\"id\":2255,\"type\":\"OCIItem\"},\"children\":[]},{\"name\":\"キューブ(通常）\",\"objectInfo\":{\"id\":2257,\"type\":\"OCIItem\"},\"children\":[]},{\"name\":\"キューブ(通常）\",\"objectInfo\":{\"id\":2259,\"type\":\"OCIItem\"},\"children\":[]},{\"name\":\"キューブ(通常）\",\"objectInfo\":{\"id\":2261,\"type\":\"OCIItem\"},\"children\":[]},{\"name\":\"キューブ(通常）\",\"objectInfo\":{\"id\":2263,\"type\":\"OCIItem\"},\"children\":[]},{\"name\":\"キューブ(通常）\",\"objectInfo\":{\"id\":2265,\"type\":\"OCIItem\"},\"children\":[]},{\"name\":\"キューブ(通常）\",\"objectInfo\":{\"id\":2267,\"type\":\"OCIItem\"},\"children\":[]},{\"name\":\"キューブ(通常）\",\"objectInfo\":{\"id\":2269,\"type\":\"OCIItem\"},\"children\":[]},{\"name\":\"キューブ(通常）\",\"objectInfo\":{\"id\":2271,\"type\":\"OCIItem\"},\"children\":[]},{\"name\":\"キューブ(通常）\",\"objectInfo\":{\"id\":2273,\"type\":\"OCIItem\"},\"children\":[]},{\"name\":\"キューブ(通常）\",\"objectInfo\":{\"id\":2275,\"type\":\"OCIItem\"},\"children\":[]},{\"name\":\"キューブ(通常）\",\"objectInfo\":{\"id\":2277,\"type\":\"OCIItem\"},\"children\":[]},{\"name\":\"キューブ(通常）\",\"objectInfo\":{\"id\":2279,\"type\":\"OCIItem\"},\"children\":[]},{\"name\":\"キューブ(通常）\",\"objectInfo\":{\"id\":2281,\"type\":\"OCIItem\"},\"children\":[]},{\"name\":\"キューブ(通常）\",\"objectInfo\":{\"id\":2283,\"type\":\"OCIItem\"},\"children\":[]},{\"name\":\"キューブ(通常）\",\"objectInfo\":{\"id\":2285,\"type\":\"OCIItem\"},\"children\":[]},{\"name\":\"キューブ(通常）\",\"objectInfo\":{\"id\":2287,\"type\":\"OCIItem\"},\"children\":[]},{\"name\":\"キューブ(通常）\",\"objectInfo\":{\"id\":2289,\"type\":\"OCIItem\"},\"children\":[]},{\"name\":\"キューブ(通常）\",\"objectInfo\":{\"id\":2291,\"type\":\"OCIItem\"},\"children\":[]},{\"name\":\"キューブ(通常）\",\"objectInfo\":{\"id\":2293,\"type\":\"OCIItem\"},\"children\":[]},{\"name\":\"キューブ(通常）\",\"objectInfo\":{\"id\":2295,\"type\":\"OCIItem\"},\"children\":[]},{\"name\":\"キューブ(通常）\",\"objectInfo\":{\"id\":2297,\"type\":\"OCIItem\"},\"children\":[]},{\"name\":\"キューブ(通常）\",\"objectInfo\":{\"id\":2299,\"type\":\"OCIItem\"},\"children\":[]},{\"name\":\"キューブ(通常）\",\"objectInfo\":{\"id\":2301,\"type\":\"OCIItem\"},\"children\":[]},{\"name\":\"キューブ(通常）\",\"objectInfo\":{\"id\":2303,\"type\":\"OCIItem\"},\"children\":[]},{\"name\":\"キューブ(通常）\",\"objectInfo\":{\"id\":2305,\"type\":\"OCIItem\"},\"children\":[]},{\"name\":\"キューブ(通常）\",\"objectInfo\":{\"id\":2307,\"type\":\"OCIItem\"},\"children\":[]},{\"name\":\"キューブ(通常）\",\"objectInfo\":{\"id\":2309,\"type\":\"OCIItem\"},\"children\":[]},{\"name\":\"キューブ(通常）\",\"objectInfo\":{\"id\":2311,\"type\":\"OCIItem\"},\"children\":[]},{\"name\":\"キューブ(通常）\",\"objectInfo\":{\"id\":2313,\"type\":\"OCIItem\"},\"children\":[]},{\"name\":\"キューブ(通常）\",\"objectInfo\":{\"id\":2315,\"type\":\"OCIItem\"},\"children\":[]},{\"name\":\"キューブ(通常）\",\"objectInfo\":{\"id\":2317,\"type\":\"OCIItem\"},\"children\":[]},{\"name\":\"キューブ(通常）\",\"objectInfo\":{\"id\":2319,\"type\":\"OCIItem\"},\"children\":[]},{\"name\":\"キューブ(通常）\",\"objectInfo\":{\"id\":2321,\"type\":\"OCIItem\"},\"children\":[]},{\"name\":\"キューブ(通常）\",\"objectInfo\":{\"id\":2323,\"type\":\"OCIItem\"},\"children\":[]},{\"name\":\"キューブ(通常）\",\"objectInfo\":{\"id\":2325,\"type\":\"OCIItem\"},\"children\":[]},{\"name\":\"キューブ(通常）\",\"objectInfo\":{\"id\":2327,\"type\":\"OCIItem\"},\"children\":[]},{\"name\":\"キューブ(通常）\",\"objectInfo\":{\"id\":2329,\"type\":\"OCIItem\"},\"children\":[]},{\"name\":\"キューブ(通常）\",\"objectInfo\":{\"id\":2331,\"type\":\"OCIItem\"},\"children\":[]},{\"name\":\"キューブ(通常）\",\"objectInfo\":{\"id\":2333,\"type\":\"OCIItem\"},\"children\":[]},{\"name\":\"キューブ(通常）\",\"objectInfo\":{\"id\":2335,\"type\":\"OCIItem\"},\"children\":[]},{\"name\":\"キューブ(通常）\",\"objectInfo\":{\"id\":2337,\"type\":\"OCIItem\"},\"children\":[]},{\"name\":\"キューブ(通常）\",\"objectInfo\":{\"id\":2339,\"type\":\"OCIItem\"},\"children\":[]},{\"name\":\"キューブ(通常）\",\"objectInfo\":{\"id\":2341,\"type\":\"OCIItem\"},\"children\":[]},{\"name\":\"キューブ(通常）\",\"objectInfo\":{\"id\":2343,\"type\":\"OCIItem\"},\"children\":[]},{\"name\":\"キューブ(通常）\",\"objectInfo\":{\"id\":2345,\"type\":\"OCIItem\"},\"children\":[]},{\"name\":\"キューブ(通常）\",\"objectInfo\":{\"id\":2347,\"type\":\"OCIItem\"},\"children\":[]},{\"name\":\"キューブ(通常）\",\"objectInfo\":{\"id\":2349,\"type\":\"OCIItem\"},\"children\":[]},{\"name\":\"キューブ(通常）\",\"objectInfo\":{\"id\":2351,\"type\":\"OCIItem\"},\"children\":[]},{\"name\":\"キューブ(通常）\",\"objectInfo\":{\"id\":2353,\"type\":\"OCIItem\"},\"children\":[]},{\"name\":\"キューブ(通常）\",\"objectInfo\":{\"id\":2355,\"type\":\"OCIItem\"},\"children\":[]},{\"name\":\"キューブ(通常）\",\"objectInfo\":{\"id\":2357,\"type\":\"OCIItem\"},\"children\":[]},{\"name\":\"キューブ(通常）\",\"objectInfo\":{\"id\":2359,\"type\":\"OCIItem\"},\"children\":[]},{\"name\":\"キューブ(通常）\",\"objectInfo\":{\"id\":2361,\"type\":\"OCIItem\"},\"children\":[]},{\"name\":\"キューブ(通常）\",\"objectInfo\":{\"id\":2363,\"type\":\"OCIItem\"},\"children\":[]},{\"name\":\"キューブ(通常）\",\"objectInfo\":{\"id\":2365,\"type\":\"OCIItem\"},\"children\":[]},{\"name\":\"キューブ(通常）\",\"objectInfo\":{\"id\":2367,\"type\":\"OCIItem\"},\"children\":[]},{\"name\":\"キューブ(通常）\",\"objectInfo\":{\"id\":2369,\"type\":\"OCIItem\"},\"children\":[]},{\"name\":\"キューブ(通常）\",\"objectInfo\":{\"id\":2371,\"type\":\"OCIItem\"},\"children\":[]},{\"name\":\"キューブ(通常）\",\"objectInfo\":{\"id\":2373,\"type\":\"OCIItem\"},\"children\":[]},{\"name\":\"キューブ(通常）\",\"objectInfo\":{\"id\":2375,\"type\":\"OCIItem\"},\"children\":[]},{\"name\":\"キューブ(通常）\",\"objectInfo\":{\"id\":2377,\"type\":\"OCIItem\"},\"children\":[]},{\"name\":\"キューブ(通常）\",\"objectInfo\":{\"id\":2379,\"type\":\"OCIItem\"},\"children\":[]},{\"name\":\"キューブ(通常）\",\"objectInfo\":{\"id\":2381,\"type\":\"OCIItem\"},\"children\":[]},{\"name\":\"キューブ(通常）\",\"objectInfo\":{\"id\":2383,\"type\":\"OCIItem\"},\"children\":[]},{\"name\":\"キューブ(通常）\",\"objectInfo\":{\"id\":2385,\"type\":\"OCIItem\"},\"children\":[]},{\"name\":\"キューブ(通常）\",\"objectInfo\":{\"id\":2387,\"type\":\"OCIItem\"},\"children\":[]},{\"name\":\"キューブ(通常）\",\"objectInfo\":{\"id\":2389,\"type\":\"OCIItem\"},\"children\":[]},{\"name\":\"キューブ(通常）\",\"objectInfo\":{\"id\":2391,\"type\":\"OCIItem\"},\"children\":[]},{\"name\":\"キューブ(通常）\",\"objectInfo\":{\"id\":2393,\"type\":\"OCIItem\"},\"children\":[]},{\"name\":\"キューブ(通常）\",\"objectInfo\":{\"id\":2395,\"type\":\"OCIItem\"},\"children\":[]},{\"name\":\"キューブ(通常）\",\"objectInfo\":{\"id\":2397,\"type\":\"OCIItem\"},\"children\":[]},{\"name\":\"キューブ(通常）\",\"objectInfo\":{\"id\":2399,\"type\":\"OCIItem\"},\"children\":[]},{\"name\":\"キューブ(通常）\",\"objectInfo\":{\"id\":2401,\"type\":\"OCIItem\"},\"children\":[]},{\"name\":\"キューブ(通常）\",\"objectInfo\":{\"id\":2403,\"type\":\"OCIItem\"},\"children\":[]},{\"name\":\"キューブ(通常）\",\"objectInfo\":{\"id\":2405,\"type\":\"OCIItem\"},\"children\":[]},{\"name\":\"キューブ(通常）\",\"objectInfo\":{\"id\":2407,\"type\":\"OCIItem\"},\"children\":[]},{\"name\":\"キューブ(通常）\",\"objectInfo\":{\"id\":2409,\"type\":\"OCIItem\"},\"children\":[]},{\"name\":\"キューブ(通常）\",\"objectInfo\":{\"id\":2411,\"type\":\"OCIItem\"},\"children\":[]},{\"name\":\"キューブ(通常）\",\"objectInfo\":{\"id\":2413,\"type\":\"OCIItem\"},\"children\":[]},{\"name\":\"キューブ(通常）\",\"objectInfo\":{\"id\":2415,\"type\":\"OCIItem\"},\"children\":[]},{\"name\":\"キューブ(通常）\",\"objectInfo\":{\"id\":2417,\"type\":\"OCIItem\"},\"children\":[]},{\"name\":\"キューブ(通常）\",\"objectInfo\":{\"id\":2419,\"type\":\"OCIItem\"},\"children\":[]},{\"name\":\"キューブ(通常）\",\"objectInfo\":{\"id\":2421,\"type\":\"OCIItem\"},\"children\":[]},{\"name\":\"キューブ(通常）\",\"objectInfo\":{\"id\":2423,\"type\":\"OCIItem\"},\"children\":[]},{\"name\":\"キューブ(通常）\",\"objectInfo\":{\"id\":2425,\"type\":\"OCIItem\"},\"children\":[]},{\"name\":\"キューブ(通常）\",\"objectInfo\":{\"id\":2427,\"type\":\"OCIItem\"},\"children\":[]}]}]\n",
      "✅ send: {'type': 'delete', 'id': 2212}\n",
      "📨 recv: {\"type\":\"success\",\"message\":\"Object 2212 deleted successfully\"}\n",
      "✅ send: {'type': 'add', 'command': 'folder', 'name': 'center'}\n",
      "📨 recv: {\"type\":\"success\",\"message\":\"Folder added successfully with name: center\",\"objectId\":2212}\n",
      "✅ send: {'type': 'update', 'command': 'transform', 'id': 2212, 'pos': [0.0, 1.5, 0.5]}\n",
      "📨 recv: {\"type\":\"success\",\"message\":\"Transform updated for object ID 2212\"}\n"
     ]
    }
   ],
   "source": [
    "payload = {\n",
    "    \"type\": \"tree\",\n",
    "}\n",
    "tree = await websocket_test(payload)\n",
    "\n",
    "for item in tree:\n",
    "    if item[\"name\"] == \"center\":\n",
    "        payload = {\n",
    "            \"type\": \"delete\",\n",
    "            \"id\": item[\"objectInfo\"][\"id\"],\n",
    "        }\n",
    "        await websocket_test(payload)\n",
    "\n",
    "payload = {\n",
    "    \"type\": \"add\",\n",
    "    \"command\": \"folder\",\n",
    "    \"name\": \"center\"\n",
    "}\n",
    "response = await websocket_test(payload)\n",
    "center_id = response[\"objectId\"]\n",
    "\n",
    "payload = {\n",
    "    \"type\": \"update\",\n",
    "    \"command\": \"transform\",\n",
    "    \"id\": center_id,\n",
    "    \"pos\": [0.0, 1.5, 0.5],\n",
    "}\n",
    "response = await websocket_test(payload)"
   ]
  },
  {
   "cell_type": "code",
   "execution_count": 13,
   "id": "7d3ecb1c",
   "metadata": {},
   "outputs": [
    {
     "data": {
      "application/vnd.jupyter.widget-view+json": {
       "model_id": "b22b79937ef04580b3dca114fd534344",
       "version_major": 2,
       "version_minor": 0
      },
      "text/plain": [
       "  0%|          | 0/1080 [00:00<?, ?it/s]"
      ]
     },
     "metadata": {},
     "output_type": "display_data"
    }
   ],
   "source": [
    "\n",
    "def random_color_with_fixed_saturation(saturation=1.0, value=1.0):\n",
    "    h = random.uniform(0.0, 1.0)\n",
    "    r, g, b = colorsys.hsv_to_rgb(h, saturation, value)\n",
    "    return [r, g, b, 1.0]\n",
    "\n",
    "RANGE = 5\n",
    "\n",
    "for angle in tqdm(range(360*3)):\n",
    "    if angle % 10 != 0:\n",
    "        continue\n",
    "\n",
    "    payload = {\n",
    "        \"type\": \"add\",\n",
    "        \"command\": \"item\",\n",
    "        \"group\": 0,\n",
    "        \"category\": 0,\n",
    "        \"itemId\": 1,\n",
    "    }\n",
    "    response = await websocket_test(payload, quiet=True)\n",
    "    item_id = response[\"objectId\"]\n",
    "\n",
    "    payload = {\n",
    "        \"type\": \"hierarchy\",\n",
    "        \"command\": \"attach\",\n",
    "        \"childId\": item_id,\n",
    "        \"parentId\": center_id,\n",
    "    }\n",
    "    response = await websocket_test(payload, quiet=True)\n",
    "\n",
    "    range_ = random.uniform(0.1, 5)\n",
    "    height = random.uniform(-1.5, 1.5)\n",
    "    scale = random.uniform(1, 3)\n",
    "    payload = {\n",
    "        \"type\": \"update\",\n",
    "        \"command\": \"transform\",\n",
    "        \"id\": item_id,\n",
    "        \"pos\": [\n",
    "            math.cos(math.radians(angle))*range_,\n",
    "            height,\n",
    "            math.sin(math.radians(angle))*range_,\n",
    "        ],\n",
    "        \"rot\": [random.uniform(0, 360) for _ in range(3)],\n",
    "        \"scale\": [scale for _ in range(3)],\n",
    "    }\n",
    "    response = await websocket_test(payload, quiet=True)\n",
    "\n",
    "    payload = {\n",
    "        \"type\": \"update\",\n",
    "        \"command\": \"color\",\n",
    "        \"id\": item_id,\n",
    "        \"color\": list(random_color_with_fixed_saturation(0.9, 0.9)),\n",
    "        \"colorIndex\": 0,\n",
    "    }\n",
    "    response = await websocket_test(payload, quiet=True)"
   ]
  }
 ],
 "metadata": {
  "kernelspec": {
   "display_name": ".venv",
   "language": "python",
   "name": "python3"
  },
  "language_info": {
   "codemirror_mode": {
    "name": "ipython",
    "version": 3
   },
   "file_extension": ".py",
   "mimetype": "text/x-python",
   "name": "python",
   "nbconvert_exporter": "python",
   "pygments_lexer": "ipython3",
   "version": "3.12.5"
  }
 },
 "nbformat": 4,
 "nbformat_minor": 5
}
