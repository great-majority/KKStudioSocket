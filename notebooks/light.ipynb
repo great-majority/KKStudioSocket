{
 "cells": [
  {
   "cell_type": "code",
   "execution_count": 6,
   "id": "efc3b8d0",
   "metadata": {},
   "outputs": [],
   "source": [
    "import time\n",
    "import json\n",
    "import math\n",
    "import numpy as np\n",
    "import nest_asyncio\n",
    "import asyncio\n",
    "import websockets\n",
    "nest_asyncio.apply()"
   ]
  },
  {
   "cell_type": "code",
   "execution_count": 7,
   "id": "d19c7c6a",
   "metadata": {},
   "outputs": [],
   "source": [
    "async def websocket_test(payload, indent=None):\n",
    "    uri = \"ws://127.0.0.1:8765/ws\"\n",
    "    async with websockets.connect(uri) as ws:\n",
    "        await ws.send(json.dumps(payload))\n",
    "        print(\"✅ send:\", payload)\n",
    "\n",
    "        try:\n",
    "            # 5 秒以内に返事が来なければ TimeoutError\n",
    "            response = await asyncio.wait_for(ws.recv(), timeout=5)\n",
    "            if indent:\n",
    "                print(\"📨 recv: \", json.dumps(json.loads(response), indent=indent, ensure_ascii=False))\n",
    "                return json.loads(response)\n",
    "            else:\n",
    "                print(\"📨 recv:\", response)\n",
    "                return json.loads(response)\n",
    "        except asyncio.TimeoutError:\n",
    "            print(\"⏰ タイムアウト（5 秒以内にメッセージが来ませんでした）\")"
   ]
  },
  {
   "cell_type": "code",
   "execution_count": 8,
   "id": "1c106bc2",
   "metadata": {},
   "outputs": [
    {
     "name": "stdout",
     "output_type": "stream",
     "text": [
      "✅ send: {'type': 'add', 'command': 'light', 'LightId': 0}\n",
      "📨 recv: {\"type\":\"success\",\"message\":\"Light added successfully: lightId=0\",\"objectId\":0}\n",
      "✅ send: {'type': 'add', 'command': 'light', 'LightId': 1}\n",
      "📨 recv: {\"type\":\"success\",\"message\":\"Light added successfully: lightId=1\",\"objectId\":1}\n",
      "✅ send: {'type': 'add', 'command': 'light', 'LightId': 2}\n",
      "📨 recv: {\"type\":\"success\",\"message\":\"Light added successfully: lightId=2\",\"objectId\":2}\n"
     ]
    },
    {
     "data": {
      "text/plain": [
       "{'type': 'success',\n",
       " 'message': 'Light added successfully: lightId=2',\n",
       " 'objectId': 2}"
      ]
     },
     "execution_count": 8,
     "metadata": {},
     "output_type": "execute_result"
    }
   ],
   "source": [
    "payload = {\n",
    "    \"type\": \"add\",\n",
    "    \"command\": \"light\",\n",
    "    \"LightId\": 0, # 全体光\n",
    "}\n",
    "await websocket_test(payload)\n",
    "\n",
    "payload = {\n",
    "    \"type\": \"add\",\n",
    "    \"command\": \"light\",\n",
    "    \"LightId\": 1, # ポイントライト\n",
    "}\n",
    "await websocket_test(payload)\n",
    "\n",
    "payload = {\n",
    "    \"type\": \"add\",\n",
    "    \"command\": \"light\",\n",
    "    \"LightId\": 2, # スポットライト\n",
    "}\n",
    "await websocket_test(payload)"
   ]
  },
  {
   "cell_type": "code",
   "execution_count": 44,
   "id": "927fc444",
   "metadata": {},
   "outputs": [
    {
     "name": "stdout",
     "output_type": "stream",
     "text": [
      "✅ send: {'type': 'update', 'command': 'light', 'id': 0, 'color': [1.0, 1.0, 0.0]}\n",
      "📨 recv: {\"type\":\"success\",\"message\":\"Light properties updated for ID 0\"}\n"
     ]
    },
    {
     "data": {
      "text/plain": [
       "{'type': 'success', 'message': 'Light properties updated for ID 0'}"
      ]
     },
     "execution_count": 44,
     "metadata": {},
     "output_type": "execute_result"
    }
   ],
   "source": [
    "payload = {\n",
    "    \"type\": \"update\",\n",
    "    \"command\": \"light\",\n",
    "    \"id\": 0,\n",
    "    \"color\": [1.0, 1.0, 0.0]\n",
    "}\n",
    "await websocket_test(payload)"
   ]
  },
  {
   "cell_type": "code",
   "execution_count": 5,
   "id": "8cd63499",
   "metadata": {},
   "outputs": [
    {
     "name": "stdout",
     "output_type": "stream",
     "text": [
      "✅ send: {'type': 'update', 'command': 'light', 'id': 0, 'intensity': 1.0}\n",
      "📨 recv: {\"type\":\"error\",\"message\":\"No valid light properties provided for ID 0\"}\n"
     ]
    },
    {
     "data": {
      "text/plain": [
       "{'type': 'error', 'message': 'No valid light properties provided for ID 0'}"
      ]
     },
     "execution_count": 5,
     "metadata": {},
     "output_type": "execute_result"
    }
   ],
   "source": [
    "payload = {\n",
    "    \"type\": \"update\",\n",
    "    \"command\": \"light\",\n",
    "    \"id\": 0,\n",
    "    \"intensity\": 1.0,\n",
    "}\n",
    "await websocket_test(payload)"
   ]
  },
  {
   "cell_type": "code",
   "execution_count": 19,
   "id": "e7f73d85",
   "metadata": {},
   "outputs": [
    {
     "name": "stdout",
     "output_type": "stream",
     "text": [
      "✅ send: {'type': 'update', 'command': 'light', 'id': 1, 'range': 25.0}\n",
      "📨 recv: {\"type\":\"success\",\"message\":\"Light properties updated for ID 1\"}\n"
     ]
    },
    {
     "data": {
      "text/plain": [
       "{'type': 'success', 'message': 'Light properties updated for ID 1'}"
      ]
     },
     "execution_count": 19,
     "metadata": {},
     "output_type": "execute_result"
    }
   ],
   "source": [
    "payload = {\n",
    "    \"type\": \"update\",\n",
    "    \"command\": \"light\",\n",
    "    \"id\": 1,\n",
    "    \"range\": 25.0\n",
    "}\n",
    "await websocket_test(payload)"
   ]
  },
  {
   "cell_type": "code",
   "execution_count": 20,
   "id": "fc8b583f",
   "metadata": {},
   "outputs": [
    {
     "name": "stdout",
     "output_type": "stream",
     "text": [
      "✅ send: {'type': 'update', 'command': 'light', 'id': 2, 'spotAngle': 45.0}\n",
      "📨 recv: {\"type\":\"success\",\"message\":\"Light properties updated for ID 2\"}\n"
     ]
    },
    {
     "data": {
      "text/plain": [
       "{'type': 'success', 'message': 'Light properties updated for ID 2'}"
      ]
     },
     "execution_count": 20,
     "metadata": {},
     "output_type": "execute_result"
    }
   ],
   "source": [
    "payload = {\n",
    "    \"type\": \"update\",\n",
    "    \"command\": \"light\",\n",
    "    \"id\": 2,\n",
    "    \"spotAngle\": 45.0\n",
    "}\n",
    "await websocket_test(payload)"
   ]
  },
  {
   "cell_type": "code",
   "execution_count": 15,
   "id": "a1078ea5",
   "metadata": {},
   "outputs": [
    {
     "name": "stdout",
     "output_type": "stream",
     "text": [
      "✅ send: {'type': 'tree'}\n",
      "📨 recv: [{\"name\":\"全体光\",\"objectInfo\":{\"id\":0,\"type\":\"OCILight\"},\"children\":[]},{\"name\":\"ポイントライト\",\"objectInfo\":{\"id\":1,\"type\":\"OCILight\"},\"children\":[]},{\"name\":\"スポットライト\",\"objectInfo\":{\"id\":2,\"type\":\"OCILight\"},\"children\":[]}]\n"
     ]
    },
    {
     "data": {
      "text/plain": [
       "[{'name': '全体光', 'objectInfo': {'id': 0, 'type': 'OCILight'}, 'children': []},\n",
       " {'name': 'ポイントライト',\n",
       "  'objectInfo': {'id': 1, 'type': 'OCILight'},\n",
       "  'children': []},\n",
       " {'name': 'スポットライト',\n",
       "  'objectInfo': {'id': 2, 'type': 'OCILight'},\n",
       "  'children': []}]"
      ]
     },
     "execution_count": 15,
     "metadata": {},
     "output_type": "execute_result"
    }
   ],
   "source": [
    "payload = {\n",
    "    \"type\": \"tree\",\n",
    "}\n",
    "await websocket_test(payload)"
   ]
  },
  {
   "cell_type": "code",
   "execution_count": 63,
   "id": "73abc838",
   "metadata": {},
   "outputs": [
    {
     "name": "stdout",
     "output_type": "stream",
     "text": [
      "✅ send: {'type': 'update', 'command': 'light', 'id': 0, 'enable': True}\n",
      "📨 recv: {\"type\":\"success\",\"message\":\"Light properties updated for ID 0\"}\n"
     ]
    },
    {
     "data": {
      "text/plain": [
       "{'type': 'success', 'message': 'Light properties updated for ID 0'}"
      ]
     },
     "execution_count": 63,
     "metadata": {},
     "output_type": "execute_result"
    }
   ],
   "source": [
    "payload = {\n",
    "    \"type\": \"update\",\n",
    "    \"command\": \"light\",\n",
    "    \"id\": 0,\n",
    "    \"enable\": True,\n",
    "}\n",
    "await websocket_test(payload)"
   ]
  }
 ],
 "metadata": {
  "kernelspec": {
   "display_name": ".venv",
   "language": "python",
   "name": "python3"
  },
  "language_info": {
   "codemirror_mode": {
    "name": "ipython",
    "version": 3
   },
   "file_extension": ".py",
   "mimetype": "text/x-python",
   "name": "python",
   "nbconvert_exporter": "python",
   "pygments_lexer": "ipython3",
   "version": "3.12.5"
  }
 },
 "nbformat": 4,
 "nbformat_minor": 5
}
