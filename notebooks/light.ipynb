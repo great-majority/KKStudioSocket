{
 "cells": [
  {
   "cell_type": "code",
   "execution_count": 1,
   "id": "efc3b8d0",
   "metadata": {},
   "outputs": [],
   "source": [
    "import time\n",
    "import json\n",
    "import math\n",
    "import numpy as np\n",
    "import nest_asyncio\n",
    "import asyncio\n",
    "import websockets\n",
    "nest_asyncio.apply()"
   ]
  },
  {
   "cell_type": "code",
   "execution_count": 2,
   "id": "d19c7c6a",
   "metadata": {},
   "outputs": [],
   "source": [
    "async def websocket_test(payload, indent=None):\n",
    "    uri = \"ws://127.0.0.1:8765/ws\"\n",
    "    async with websockets.connect(uri) as ws:\n",
    "        await ws.send(json.dumps(payload))\n",
    "        print(\"✅ send:\", payload)\n",
    "\n",
    "        try:\n",
    "            # 5 秒以内に返事が来なければ TimeoutError\n",
    "            response = await asyncio.wait_for(ws.recv(), timeout=5)\n",
    "            if indent:\n",
    "                print(\"📨 recv: \", json.dumps(json.loads(response), indent=indent, ensure_ascii=False))\n",
    "                return json.loads(response)\n",
    "            else:\n",
    "                print(\"📨 recv:\", response)\n",
    "                return json.loads(response)\n",
    "        except asyncio.TimeoutError:\n",
    "            print(\"⏰ タイムアウト（5 秒以内にメッセージが来ませんでした）\")"
   ]
  },
  {
   "cell_type": "code",
   "execution_count": 3,
   "id": "1c106bc2",
   "metadata": {},
   "outputs": [
    {
     "name": "stdout",
     "output_type": "stream",
     "text": [
      "✅ send: {'type': 'add', 'command': 'light', 'LightId': 0}\n",
      "📨 recv: {\"objectId\":0,\"message\":\"Light added successfully: lightId=0\",\"type\":\"success\"}\n",
      "✅ send: {'type': 'add', 'command': 'light', 'LightId': 1}\n",
      "📨 recv: {\"objectId\":1,\"message\":\"Light added successfully: lightId=1\",\"type\":\"success\"}\n",
      "✅ send: {'type': 'add', 'command': 'light', 'LightId': 2}\n",
      "📨 recv: {\"objectId\":2,\"message\":\"Light added successfully: lightId=2\",\"type\":\"success\"}\n"
     ]
    },
    {
     "data": {
      "text/plain": [
       "{'objectId': 2,\n",
       " 'message': 'Light added successfully: lightId=2',\n",
       " 'type': 'success'}"
      ]
     },
     "execution_count": 3,
     "metadata": {},
     "output_type": "execute_result"
    }
   ],
   "source": [
    "payload = {\n",
    "    \"type\": \"add\",\n",
    "    \"command\": \"light\",\n",
    "    \"LightId\": 0, # 全体光\n",
    "}\n",
    "await websocket_test(payload)\n",
    "\n",
    "payload = {\n",
    "    \"type\": \"add\",\n",
    "    \"command\": \"light\",\n",
    "    \"LightId\": 1, # ポイントライト\n",
    "}\n",
    "await websocket_test(payload)\n",
    "\n",
    "payload = {\n",
    "    \"type\": \"add\",\n",
    "    \"command\": \"light\",\n",
    "    \"LightId\": 2, # スポットライト\n",
    "}\n",
    "await websocket_test(payload)"
   ]
  },
  {
   "cell_type": "code",
   "execution_count": 4,
   "id": "927fc444",
   "metadata": {},
   "outputs": [
    {
     "name": "stdout",
     "output_type": "stream",
     "text": [
      "✅ send: {'type': 'update', 'command': 'light', 'id': 0, 'color': [1.0, 1.0, 0.0]}\n",
      "📨 recv: {\"message\":\"Light properties updated for ID 0\",\"type\":\"success\"}\n"
     ]
    },
    {
     "data": {
      "text/plain": [
       "{'message': 'Light properties updated for ID 0', 'type': 'success'}"
      ]
     },
     "execution_count": 4,
     "metadata": {},
     "output_type": "execute_result"
    }
   ],
   "source": [
    "payload = {\n",
    "    \"type\": \"update\",\n",
    "    \"command\": \"light\",\n",
    "    \"id\": 0,\n",
    "    \"color\": [1.0, 1.0, 0.0]\n",
    "}\n",
    "await websocket_test(payload)"
   ]
  },
  {
   "cell_type": "code",
   "execution_count": 7,
   "id": "8cd63499",
   "metadata": {},
   "outputs": [
    {
     "name": "stdout",
     "output_type": "stream",
     "text": [
      "✅ send: {'type': 'update', 'command': 'light', 'id': 0, 'intensity': 1.5}\n",
      "📨 recv: {\"message\":\"Light properties updated for ID 0\",\"type\":\"success\"}\n"
     ]
    },
    {
     "data": {
      "text/plain": [
       "{'message': 'Light properties updated for ID 0', 'type': 'success'}"
      ]
     },
     "execution_count": 7,
     "metadata": {},
     "output_type": "execute_result"
    }
   ],
   "source": [
    "payload = {\n",
    "    \"type\": \"update\",\n",
    "    \"command\": \"light\",\n",
    "    \"id\": 0,\n",
    "    \"intensity\": 1.5,\n",
    "}\n",
    "await websocket_test(payload)"
   ]
  },
  {
   "cell_type": "code",
   "execution_count": 8,
   "id": "e7f73d85",
   "metadata": {},
   "outputs": [
    {
     "name": "stdout",
     "output_type": "stream",
     "text": [
      "✅ send: {'type': 'update', 'command': 'light', 'id': 1, 'range': 25.0}\n",
      "📨 recv: {\"message\":\"Light properties updated for ID 1\",\"type\":\"success\"}\n"
     ]
    },
    {
     "data": {
      "text/plain": [
       "{'message': 'Light properties updated for ID 1', 'type': 'success'}"
      ]
     },
     "execution_count": 8,
     "metadata": {},
     "output_type": "execute_result"
    }
   ],
   "source": [
    "payload = {\n",
    "    \"type\": \"update\",\n",
    "    \"command\": \"light\",\n",
    "    \"id\": 1,\n",
    "    \"range\": 25.0\n",
    "}\n",
    "await websocket_test(payload)"
   ]
  },
  {
   "cell_type": "code",
   "execution_count": 9,
   "id": "fc8b583f",
   "metadata": {},
   "outputs": [
    {
     "name": "stdout",
     "output_type": "stream",
     "text": [
      "✅ send: {'type': 'update', 'command': 'light', 'id': 2, 'spotAngle': 45.0}\n",
      "📨 recv: {\"message\":\"Light properties updated for ID 2\",\"type\":\"success\"}\n"
     ]
    },
    {
     "data": {
      "text/plain": [
       "{'message': 'Light properties updated for ID 2', 'type': 'success'}"
      ]
     },
     "execution_count": 9,
     "metadata": {},
     "output_type": "execute_result"
    }
   ],
   "source": [
    "payload = {\n",
    "    \"type\": \"update\",\n",
    "    \"command\": \"light\",\n",
    "    \"id\": 2,\n",
    "    \"spotAngle\": 45.0\n",
    "}\n",
    "await websocket_test(payload)"
   ]
  },
  {
   "cell_type": "code",
   "execution_count": 10,
   "id": "a1078ea5",
   "metadata": {},
   "outputs": [
    {
     "name": "stdout",
     "output_type": "stream",
     "text": [
      "✅ send: {'type': 'tree'}\n",
      "📨 recv: {\"data\":[{\"name\":\"全体光\",\"objectInfo\":{\"id\":0,\"type\":\"OCILight\",\"transform\":{\"pos\":[-1.37986422E-06,1.23611975,-0.02477312],\"rot\":[0.0,0.0,0.0],\"scale\":[1.0,1.0,1.0]},\"itemDetail\":null},\"children\":[]},{\"name\":\"ポイントライト\",\"objectInfo\":{\"id\":1,\"type\":\"OCILight\",\"transform\":{\"pos\":[-1.37986422E-06,1.23611975,-0.02477312],\"rot\":[0.0,0.0,0.0],\"scale\":[1.0,1.0,1.0]},\"itemDetail\":null},\"children\":[]},{\"name\":\"スポットライト\",\"objectInfo\":{\"id\":2,\"type\":\"OCILight\",\"transform\":{\"pos\":[-1.37986422E-06,1.23611975,-0.02477312],\"rot\":[0.0,0.0,0.0],\"scale\":[1.0,1.0,1.0]},\"itemDetail\":null},\"children\":[]}],\"message\":null,\"type\":\"success\"}\n"
     ]
    },
    {
     "data": {
      "text/plain": [
       "{'data': [{'name': '全体光',\n",
       "   'objectInfo': {'id': 0,\n",
       "    'type': 'OCILight',\n",
       "    'transform': {'pos': [-1.37986422e-06, 1.23611975, -0.02477312],\n",
       "     'rot': [0.0, 0.0, 0.0],\n",
       "     'scale': [1.0, 1.0, 1.0]},\n",
       "    'itemDetail': None},\n",
       "   'children': []},\n",
       "  {'name': 'ポイントライト',\n",
       "   'objectInfo': {'id': 1,\n",
       "    'type': 'OCILight',\n",
       "    'transform': {'pos': [-1.37986422e-06, 1.23611975, -0.02477312],\n",
       "     'rot': [0.0, 0.0, 0.0],\n",
       "     'scale': [1.0, 1.0, 1.0]},\n",
       "    'itemDetail': None},\n",
       "   'children': []},\n",
       "  {'name': 'スポットライト',\n",
       "   'objectInfo': {'id': 2,\n",
       "    'type': 'OCILight',\n",
       "    'transform': {'pos': [-1.37986422e-06, 1.23611975, -0.02477312],\n",
       "     'rot': [0.0, 0.0, 0.0],\n",
       "     'scale': [1.0, 1.0, 1.0]},\n",
       "    'itemDetail': None},\n",
       "   'children': []}],\n",
       " 'message': None,\n",
       " 'type': 'success'}"
      ]
     },
     "execution_count": 10,
     "metadata": {},
     "output_type": "execute_result"
    }
   ],
   "source": [
    "payload = {\n",
    "    \"type\": \"tree\",\n",
    "}\n",
    "await websocket_test(payload)"
   ]
  },
  {
   "cell_type": "code",
   "execution_count": 11,
   "id": "73abc838",
   "metadata": {},
   "outputs": [
    {
     "name": "stdout",
     "output_type": "stream",
     "text": [
      "✅ send: {'type': 'update', 'command': 'light', 'id': 0, 'enable': False}\n",
      "📨 recv: {\"message\":\"Light properties updated for ID 0\",\"type\":\"success\"}\n"
     ]
    },
    {
     "data": {
      "text/plain": [
       "{'message': 'Light properties updated for ID 0', 'type': 'success'}"
      ]
     },
     "execution_count": 11,
     "metadata": {},
     "output_type": "execute_result"
    }
   ],
   "source": [
    "payload = {\n",
    "    \"type\": \"update\",\n",
    "    \"command\": \"light\",\n",
    "    \"id\": 0,\n",
    "    \"enable\": False,\n",
    "}\n",
    "await websocket_test(payload)"
   ]
  }
 ],
 "metadata": {
  "kernelspec": {
   "display_name": ".venv",
   "language": "python",
   "name": "python3"
  },
  "language_info": {
   "codemirror_mode": {
    "name": "ipython",
    "version": 3
   },
   "file_extension": ".py",
   "mimetype": "text/x-python",
   "name": "python",
   "nbconvert_exporter": "python",
   "pygments_lexer": "ipython3",
   "version": "3.12.5"
  }
 },
 "nbformat": 4,
 "nbformat_minor": 5
}
