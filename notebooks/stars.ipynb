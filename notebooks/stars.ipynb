{
 "cells": [
  {
   "cell_type": "code",
   "execution_count": 4,
   "id": "2976a87a",
   "metadata": {},
   "outputs": [],
   "source": [
    "import time\n",
    "import json\n",
    "import nest_asyncio\n",
    "import asyncio\n",
    "import websockets\n",
    "import numpy as np\n",
    "import math\n",
    "import random\n",
    "import colorsys\n",
    "from tqdm.notebook import tqdm\n",
    "nest_asyncio.apply()"
   ]
  },
  {
   "cell_type": "code",
   "execution_count": 5,
   "id": "6edb244f",
   "metadata": {},
   "outputs": [],
   "source": [
    "async def websocket_test(payload, indent=None, quiet=False):\n",
    "    uri = \"ws://127.0.0.1:8765/ws\"\n",
    "    async with websockets.connect(uri) as ws:\n",
    "        await ws.send(json.dumps(payload))\n",
    "        if not quiet:\n",
    "            print(\"✅ send:\", payload)\n",
    "\n",
    "        try:\n",
    "            # 5 秒以内に返事が来なければ TimeoutError\n",
    "            response = await asyncio.wait_for(ws.recv(), timeout=5)\n",
    "            if not quiet:\n",
    "                if indent:\n",
    "                    print(\"📨 recv: \", json.dumps(json.loads(response), indent=indent, ensure_ascii=False))\n",
    "                else:\n",
    "                    print(\"📨 recv:\", response)\n",
    "            return json.loads(response)\n",
    "        except asyncio.TimeoutError:\n",
    "            print(\"⏰ タイムアウト（5 秒以内にメッセージが来ませんでした）\")"
   ]
  },
  {
   "cell_type": "code",
   "execution_count": 21,
   "id": "89ba391f",
   "metadata": {},
   "outputs": [
    {
     "data": {
      "application/vnd.jupyter.widget-view+json": {
       "model_id": "2975293fb3404854935fb4bb81604c07",
       "version_major": 2,
       "version_minor": 0
      },
      "text/plain": [
       "  0%|          | 0/100 [00:00<?, ?it/s]"
      ]
     },
     "metadata": {},
     "output_type": "display_data"
    }
   ],
   "source": [
    "\n",
    "size = 0.05\n",
    "\n",
    "for i in tqdm(range(100)):\n",
    "\n",
    "    # 平面の追加\n",
    "    payload = {\n",
    "        \"type\": \"add\",\n",
    "        \"command\": \"item\",\n",
    "        \"group\": 0,\n",
    "        \"category\": 0,\n",
    "        \"itemId\": 740,\n",
    "    }\n",
    "    item_response = await websocket_test(payload, quiet=True)\n",
    "\n",
    "    # フォルダの追加\n",
    "    payload = {\n",
    "        \"type\": \"add\",\n",
    "        \"command\": \"folder\",\n",
    "        \"name\": \"星\"\n",
    "    }\n",
    "    star_response = await websocket_test(payload, quiet=True)\n",
    "\n",
    "    # 星空 -> 星\n",
    "    payload = {\n",
    "        \"type\": \"hierarchy\",\n",
    "        \"command\": \"attach\",\n",
    "        \"parentId\": 131,\n",
    "        \"childId\": star_response[\"objectId\"],\n",
    "    }\n",
    "    response = await websocket_test(payload, quiet=True)\n",
    "\n",
    "    # 星 -> 星オブジェクト\n",
    "    payload = {\n",
    "        \"type\": \"hierarchy\",\n",
    "        \"command\": \"attach\",\n",
    "        \"parentId\": star_response[\"objectId\"],\n",
    "        \"childId\": item_response[\"objectId\"],\n",
    "    }\n",
    "    response = await websocket_test(payload, quiet=True)\n",
    "\n",
    "    # 星オブジェクトの変形\n",
    "    payload = {\n",
    "        \"type\": \"update\",\n",
    "        \"command\": \"transform\",\n",
    "        \"id\": item_response[\"objectId\"],\n",
    "        \"pos\": [-20.0, 0.0, 0.0],\n",
    "        \"rot\": [0.0, 0.0, 270.0],\n",
    "        \"scale\": [size, 0.01, size],\n",
    "    }\n",
    "    response = await websocket_test(payload, quiet=True)\n",
    "\n",
    "    # 星の回転\n",
    "    payload = {\n",
    "        \"type\": \"update\",\n",
    "        \"command\": \"transform\",\n",
    "        \"id\": star_response[\"objectId\"],\n",
    "        \"pos\": [0.0, 0.0, 0.0],\n",
    "        \"rot\": [\n",
    "            0.0,\n",
    "            random.uniform(-17, 17),\n",
    "            random.uniform(-10, 0),\n",
    "        ],\n",
    "    }\n",
    "    response = await websocket_test(payload, quiet=True)\n"
   ]
  }
 ],
 "metadata": {
  "kernelspec": {
   "display_name": ".venv",
   "language": "python",
   "name": "python3"
  },
  "language_info": {
   "codemirror_mode": {
    "name": "ipython",
    "version": 3
   },
   "file_extension": ".py",
   "mimetype": "text/x-python",
   "name": "python",
   "nbconvert_exporter": "python",
   "pygments_lexer": "ipython3",
   "version": "3.12.5"
  }
 },
 "nbformat": 4,
 "nbformat_minor": 5
}
