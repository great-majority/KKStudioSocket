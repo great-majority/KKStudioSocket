{
 "cells": [
  {
   "cell_type": "code",
   "execution_count": 1,
   "id": "809ffb41",
   "metadata": {},
   "outputs": [],
   "source": [
    "import time\n",
    "import json\n",
    "import nest_asyncio\n",
    "import asyncio\n",
    "import websockets\n",
    "nest_asyncio.apply()"
   ]
  },
  {
   "cell_type": "code",
   "execution_count": 2,
   "id": "f84a6630",
   "metadata": {},
   "outputs": [],
   "source": [
    "async def websocket_test(payload):\n",
    "    uri = \"ws://127.0.0.1:8765/ws\"\n",
    "    async with websockets.connect(uri) as ws:\n",
    "        await ws.send(json.dumps(payload))\n",
    "        print(\"✅ send:\", payload)\n",
    "\n",
    "        try:\n",
    "            # 5 秒以内に返事が来なければ TimeoutError\n",
    "            response = await asyncio.wait_for(ws.recv(), timeout=5)\n",
    "            print(\"📨 recv:\", response)\n",
    "        except asyncio.TimeoutError:\n",
    "            print(\"⏰ タイムアウト（5 秒以内にメッセージが来ませんでした）\")"
   ]
  },
  {
   "cell_type": "markdown",
   "id": "8b403757",
   "metadata": {},
   "source": [
    "## ping"
   ]
  },
  {
   "cell_type": "code",
   "execution_count": 3,
   "id": "c03eed80",
   "metadata": {},
   "outputs": [
    {
     "name": "stdout",
     "output_type": "stream",
     "text": [
      "✅ send: {'type': 'ping', 'message': 'test', 'timestamp': '1752262732'}\n",
      "📨 recv: {\"message\":\"test\",\"timestamp\":1752262732422,\"type\":\"pong\"}\n"
     ]
    }
   ],
   "source": [
    "payload = {\n",
    "    \"type\": \"ping\",\n",
    "    \"message\": \"test\",\n",
    "    \"timestamp\": str(int(time.time())),\n",
    "}\n",
    "\n",
    "await websocket_test(payload)\n"
   ]
  },
  {
   "cell_type": "markdown",
   "id": "7b0d566a",
   "metadata": {},
   "source": [
    "## add\n",
    "\n",
    "### item"
   ]
  },
  {
   "cell_type": "code",
   "execution_count": 4,
   "id": "35104784",
   "metadata": {},
   "outputs": [
    {
     "name": "stdout",
     "output_type": "stream",
     "text": [
      "✅ send: {'type': 'add', 'command': 'item', 'group': 0, 'category': 0, 'itemId': 0}\n",
      "📨 recv: {\"objectId\":5,\"message\":\"Item added successfully: group=0, category=0, itemId=0\",\"type\":\"success\"}\n"
     ]
    }
   ],
   "source": [
    "payload = {\n",
    "    \"type\": \"add\",\n",
    "    \"command\": \"item\",\n",
    "    # スフィア(通常)\n",
    "    \"group\": 0,\n",
    "    \"category\": 0,\n",
    "    \"itemId\": 0,\n",
    "}\n",
    "\n",
    "await websocket_test(payload)"
   ]
  },
  {
   "cell_type": "markdown",
   "id": "036b5992",
   "metadata": {},
   "source": [
    "### light"
   ]
  },
  {
   "cell_type": "code",
   "execution_count": 5,
   "id": "412f8bed",
   "metadata": {},
   "outputs": [
    {
     "name": "stdout",
     "output_type": "stream",
     "text": [
      "✅ send: {'type': 'add', 'command': 'light', 'LightId': 0}\n",
      "📨 recv: {\"objectId\":14,\"message\":\"Light added successfully: lightId=0\",\"type\":\"success\"}\n",
      "✅ send: {'type': 'add', 'command': 'light', 'LightId': 1}\n",
      "📨 recv: {\"objectId\":15,\"message\":\"Light added successfully: lightId=1\",\"type\":\"success\"}\n",
      "✅ send: {'type': 'add', 'command': 'light', 'LightId': 2}\n",
      "📨 recv: {\"objectId\":16,\"message\":\"Light added successfully: lightId=2\",\"type\":\"success\"}\n"
     ]
    }
   ],
   "source": [
    "payload = {\n",
    "    \"type\": \"add\",\n",
    "    \"command\": \"light\",\n",
    "    \"LightId\": 0, # 全体光\n",
    "}\n",
    "\n",
    "await websocket_test(payload)\n",
    "\n",
    "payload = {\n",
    "    \"type\": \"add\",\n",
    "    \"command\": \"light\",\n",
    "    \"LightId\": 1, # ポイントライト\n",
    "}\n",
    "\n",
    "await websocket_test(payload)\n",
    "\n",
    "payload = {\n",
    "    \"type\": \"add\",\n",
    "    \"command\": \"light\",\n",
    "    \"LightId\": 2, # スポットライト\n",
    "}\n",
    "\n",
    "await websocket_test(payload)"
   ]
  },
  {
   "cell_type": "markdown",
   "id": "d28072c0",
   "metadata": {},
   "source": [
    "### chara"
   ]
  },
  {
   "cell_type": "code",
   "execution_count": 6,
   "id": "6a2a32da",
   "metadata": {},
   "outputs": [
    {
     "name": "stdout",
     "output_type": "stream",
     "text": [
      "✅ send: {'type': 'add', 'command': 'character', 'sex': 'female', 'path': 'C:\\\\illusion\\\\KoikatsuSunshine_HF\\\\UserData\\\\chara\\\\female\\\\after.png'}\n",
      "📨 recv: {\"objectId\":17,\"message\":\"Female character added successfully: C:\\\\illusion\\\\KoikatsuSunshine_HF\\\\UserData\\\\chara\\\\female\\\\after.png\",\"type\":\"success\"}\n"
     ]
    }
   ],
   "source": [
    "payload = {\n",
    "    \"type\": \"add\",\n",
    "    \"command\": \"character\",\n",
    "    \"sex\": \"female\",\n",
    "    \"path\": r\"C:\\illusion\\KoikatsuSunshine_HF\\UserData\\chara\\female\\after.png\"\n",
    "}\n",
    "\n",
    "await websocket_test(payload)"
   ]
  },
  {
   "cell_type": "markdown",
   "id": "680f7b96",
   "metadata": {},
   "source": [
    "## tree"
   ]
  },
  {
   "cell_type": "code",
   "execution_count": 7,
   "id": "86b4fe78",
   "metadata": {},
   "outputs": [
    {
     "name": "stdout",
     "output_type": "stream",
     "text": [
      "✅ send: {'type': 'tree'}\n",
      "📨 recv: {\"data\":[{\"name\":\"スイートルーム\",\"objectInfo\":{\"id\":297,\"type\":\"OCIFolder\",\"transform\":{\"pos\":[0.0,0.0,0.0],\"rot\":[0.0,0.0,0.0],\"scale\":[1.0,1.0,1.0]},\"itemDetail\":null},\"children\":[{\"name\":\"壁\",\"objectInfo\":{\"id\":342,\"type\":\"OCIFolder\",\"transform\":{\"pos\":[0.0,0.0,0.0],\"rot\":[0.0,0.0,0.0],\"scale\":[1.0,1.0,1.0]},\"itemDetail\":null},\"children\":[{\"name\":\"壁手前\",\"objectInfo\":{\"id\":308,\"type\":\"OCIFolder\",\"transform\":{\"pos\":[2.99999881,0.000292301178,-1.81794167E-06],\"rot\":[0.0,90.0,0.0],\"scale\":[1.0,1.0,1.0]},\"itemDetail\":null},\"children\":[{\"name\":\"理事長室の壁\",\"objectInfo\":{\"id\":309,\"type\":\"OCIItem\",\"transform\":{\"pos\":[0.0,0.0,0.0],\"rot\":[0.0,0.0,0.0],\"scale\":[1.0,0.8,1.0]},\"itemDetail\":{\"group\":1,\"category\":118,\"itemId\":2096}},\"children\":[]},{\"name\":\"理事長室の壁\",\"objectInfo\":{\"id\":310,\"type\":\"OCIItem\",\"transform\":{\"pos\":[3.0,0.0,0.0],\"rot\":[0.0,0.0,0.0],\"scale\":[1.0,0.8,1.0]},\"itemDetail\":{\"group\":1,\"category\":118,\"itemId\":2096}},\"children\":[]},{\"name\":\"理事長室の壁\",\"objectInfo\":{\"id\":326,\"type\":\"OCIItem\",\"transform\":{\"pos\":[-3.0,0.0,0.0],\"rot\":[0.0,0.0,0.0],\"scale\":[1.0,0.8,1.0]},\"itemDetail\":{\"group\":1,\"category\":118,\"itemId\":2096}},\"children\":[]}]},{\"name\":\"壁左\",\"objectInfo\":{\"id\":312,\"type\":\"OCIFolder\",\"transform\":{\"pos\":[2.999999,0.0,-3.00000072],\"rot\":[0.0,0.0,0.0],\"scale\":[1.0,1.0,1.0]},\"itemDetail\":null},\"children\":[{\"name\":\"理事長室の壁\",\"objectInfo\":{\"id\":314,\"type\":\"OCIItem\",\"transform\":{\"pos\":[0.0,0.0,0.0],\"rot\":[0.0,0.0,0.0],\"scale\":[1.0,0.8,1.0]},\"itemDetail\":{\"group\":1,\"category\":118,\"itemId\":2096}},\"children\":[]}]},{\"name\":\"壁右\",\"objectInfo\":{\"id\":315,\"type\":\"OCIFolder\",\"transform\":{\"pos\":[-3.00000119,0.0,6.00000048],\"rot\":[0.0,180.0,0.0],\"scale\":[1.0,1.0,1.0]},\"itemDetail\":null},\"children\":[{\"name\":\"理事長室の壁\",\"objectInfo\":{\"id\":316,\"type\":\"OCIItem\",\"transform\":{\"pos\":[-3.0,0.0,0.0],\"rot\":[0.0,0.0,0.0],\"scale\":[1.0,0.8,1.0]},\"itemDetail\":{\"group\":1,\"category\":118,\"itemId\":2096}},\"children\":[]}]},{\"name\":\"ガラス\",\"objectInfo\":{\"id\":296,\"type\":\"OCIFolder\",\"transform\":{\"pos\":[2.99999833,0.0,2.86102272E-06],\"rot\":[0.0,0.0,0.0],\"scale\":[1.0,1.0,1.0]},\"itemDetail\":null},\"children\":[{\"name\":\"窓枠\",\"objectInfo\":{\"id\":44,\"type\":\"OCIFolder\",\"transform\":{\"pos\":[0.0,0.0,0.0],\"rot\":[0.0,0.0,0.0],\"scale\":[1.0,1.0,1.0]},\"itemDetail\":null},\"children\":[{\"name\":\"キューブ(通常）\",\"objectInfo\":{\"id\":335,\"type\":\"OCIItem\",\"transform\":{\"pos\":[-3.00000024,1.09999943,-2.93088818],\"rot\":[0.0,0.0,0.0],\"scale\":[1.5,25.0,1.5]},\"itemDetail\":{\"group\":0,\"category\":0,\"itemId\":1}},\"children\":[]},{\"name\":\"キューブ(通常）\",\"objectInfo\":{\"id\":334,\"type\":\"OCIItem\",\"transform\":{\"pos\":[-5.89891052,1.09999943,-2.92949581],\"rot\":[0.0,0.0,0.0],\"scale\":[1.5,25.0,1.5]},\"itemDetail\":{\"group\":0,\"category\":0,\"itemId\":1}},\"children\":[]},{\"name\":\"キューブ(通常）\",\"objectInfo\":{\"id\":313,\"type\":\"OCIItem\",\"transform\":{\"pos\":[-4.46297836,-0.07199955,-2.92949963],\"rot\":[0.0,0.0,270.0],\"scale\":[1.5,28.9625034,1.5]},\"itemDetail\":{\"group\":0,\"category\":0,\"itemId\":1}},\"children\":[]},{\"name\":\"キューブ(通常）\",\"objectInfo\":{\"id\":317,\"type\":\"OCIItem\",\"transform\":{\"pos\":[-4.46297836,2.30000019,-2.92949963],\"rot\":[0.0,0.0,270.0],\"scale\":[1.5,28.9625034,1.5]},\"itemDetail\":{\"group\":0,\"category\":0,\"itemId\":1}},\"children\":[]},{\"name\":\"キューブ(通常）\",\"objectInfo\":{\"id\":329,\"type\":\"OCIItem\",\"transform\":{\"pos\":[-5.929451,2.30000019,1.46295643],\"rot\":[90.0,0.0,0.0],\"scale\":[1.5,89.19902,1.5]},\"itemDetail\":{\"group\":0,\"category\":0,\"itemId\":1}},\"children\":[]},{\"name\":\"キューブ(通常）\",\"objectInfo\":{\"id\":325,\"type\":\"OCIItem\",\"transform\":{\"pos\":[-5.929451,-0.07481575,1.46295643],\"rot\":[90.0,0.0,0.0],\"scale\":[1.5,89.19902,1.5]},\"itemDetail\":{\"group\":0,\"category\":0,\"itemId\":1}},\"children\":[]},{\"name\":\"キューブ(通常）\",\"objectInfo\":{\"id\":320,\"type\":\"OCIItem\",\"transform\":{\"pos\":[-4.48637772,2.30000019,5.925],\"rot\":[0.0,0.0,270.0],\"scale\":[1.5,28.9625034,1.5]},\"itemDetail\":{\"group\":0,\"category\":0,\"itemId\":1}},\"children\":[]},{\"name\":\"キューブ(通常）\",\"objectInfo\":{\"id\":319,\"type\":\"OCIItem\",\"transform\":{\"pos\":[-4.48637772,-0.07199955,5.925],\"rot\":[0.0,0.0,270.0],\"scale\":[1.5,28.9625034,1.5]},\"itemDetail\":{\"group\":0,\"category\":0,\"itemId\":1}},\"children\":[]},{\"name\":\"キューブ(通常）\",\"objectInfo\":{\"id\":338,\"type\":\"OCIItem\",\"transform\":{\"pos\":[-3.07011437,1.09999943,5.925],\"rot\":[0.0,0.0,0.0],\"scale\":[1.5,25.0,1.5]},\"itemDetail\":{\"group\":0,\"category\":0,\"itemId\":1}},\"children\":[]},{\"name\":\"キューブ(通常）\",\"objectInfo\":{\"id\":337,\"type\":\"OCIItem\",\"transform\":{\"pos\":[-5.905674,1.09999943,5.925],\"rot\":[0.0,0.0,0.0],\"scale\":[1.5,25.0,1.5]},\"itemDetail\":{\"group\":0,\"category\":0,\"itemId\":1}},\"children\":[]}]},{\"name\":\"フォルダー\",\"objectInfo\":{\"id\":45,\"type\":\"OCIFolder\",\"transform\":{\"pos\":[0.0,0.0,0.0],\"rot\":[0.0,0.0,0.0],\"scale\":[1.0,1.0,1.0]},\"itemDetail\":null},\"children\":[{\"name\":\"平面（通常）\",\"objectInfo\":{\"id\":339,\"type\":\"OCIItem\",\"transform\":{\"pos\":[-5.999998,1.15000057,1.50000477],\"rot\":[0.0,0.0,270.0],\"scale\":[6.0,1.0,22.6515427]},\"itemDetail\":{\"group\":0,\"category\":0,\"itemId\":740}},\"children\":[]},{\"name\":\"平面（通常）\",\"objectInfo\":{\"id\":27,\"type\":\"OCIItem\",\"transform\":{\"pos\":[-5.92647934,1.15000057,1.50000477],\"rot\":[0.0,180.0,270.0],\"scale\":[6.0,1.0,22.7882252]},\"itemDetail\":{\"group\":0,\"category\":0,\"itemId\":740}},\"children\":[]},{\"name\":\"平面（通常）\",\"objectInfo\":{\"id\":340,\"type\":\"OCIItem\",\"transform\":{\"pos\":[-4.499996,1.10007954,-3.00000286],\"rot\":[90.0,0.0,0.0],\"scale\":[7.5,1.0,6.0]},\"itemDetail\":{\"group\":0,\"category\":0,\"itemId\":740}},\"children\":[]},{\"name\":\"平面（通常）\",\"objectInfo\":{\"id\":28,\"type\":\"OCIItem\",\"transform\":{\"pos\":[-4.486559,1.10007954,-2.9023962],\"rot\":[90.0,180.0,0.0],\"scale\":[7.5,1.0,6.0]},\"itemDetail\":{\"group\":0,\"category\":0,\"itemId\":740}},\"children\":[]},{\"name\":\"平面（通常）\",\"objectInfo\":{\"id\":341,\"type\":\"OCIItem\",\"transform\":{\"pos\":[-4.500002,1.09999943,5.999997],\"rot\":[90.0,180.0,0.0],\"scale\":[7.5,1.0,6.0]},\"itemDetail\":{\"group\":0,\"category\":0,\"itemId\":740}},\"children\":[]},{\"name\":\"平面（通常）\",\"objectInfo\":{\"id\":29,\"type\":\"OCIItem\",\"transform\":{\"pos\":[-4.500002,1.09999943,5.94237041],\"rot\":[90.0,5.757418E-13,0.0],\"scale\":[7.5,1.0,6.0]},\"itemDetail\":{\"group\":0,\"category\":0,\"itemId\":740}},\"children\":[]}]}]},{\"name\":\"部屋内壁\",\"objectInfo\":{\"id\":4,\"type\":\"OCIFolder\",\"transform\":{\"pos\":[-1.50583839,-0.07199955,1.5],\"rot\":[0.0,0.0,270.0],\"scale\":[1.0,1.0,1.0]},\"itemDetail\":null},\"children\":[{\"name\":\"キューブ(通常）\",\"objectInfo\":{\"id\":3,\"type\":\"OCIItem\",\"transform\":{\"pos\":[-2.37200046,0.5,0.0],\"rot\":[0.0,0.0,0.0],\"scale\":[1.5,40.0,1.5]},\"itemDetail\":{\"group\":0,\"category\":0,\"itemId\":1}},\"children\":[]},{\"name\":\"キューブ(通常）\",\"objectInfo\":{\"id\":2,\"type\":\"OCIItem\",\"transform\":{\"pos\":[-0.0431357175,0.5000002,0.0],\"rot\":[0.0,0.0,0.0],\"scale\":[1.5,40.0,1.5]},\"itemDetail\":{\"group\":0,\"category\":0,\"itemId\":1}},\"children\":[]},{\"name\":\"キューブ(通常）\",\"objectInfo\":{\"id\":1,\"type\":\"OCIItem\",\"transform\":{\"pos\":[-1.17199957,2.55066752,0.0],\"rot\":[0.0,0.0,90.0],\"scale\":[1.5,25.0,1.5]},\"itemDetail\":{\"group\":0,\"category\":0,\"itemId\":1}},\"children\":[]},{\"name\":\"キューブ(通常）\",\"objectInfo\":{\"id\":0,\"type\":\"OCIItem\",\"transform\":{\"pos\":[-1.17199922,-1.41929686,0.0],\"rot\":[0.0,0.0,90.0],\"scale\":[1.5,25.0,1.5]},\"itemDetail\":{\"group\":0,\"category\":0,\"itemId\":1}},\"children\":[]},{\"name\":\"平面（通常）\",\"objectInfo\":{\"id\":6,\"type\":\"OCIItem\",\"transform\":{\"pos\":[-1.17199945,0.5366936,0.0],\"rot\":[0.0,90.0,270.0],\"scale\":[10.0,1.0,6.0]},\"itemDetail\":{\"group\":0,\"category\":0,\"itemId\":740}},\"children\":[]},{\"name\":\"平面（通常）\",\"objectInfo\":{\"id\":7,\"type\":\"OCIItem\",\"transform\":{\"pos\":[-1.17199945,0.5366936,0.0],\"rot\":[0.0,90.0,90.0],\"scale\":[10.0,1.0,6.0]},\"itemDetail\":{\"group\":0,\"category\":0,\"itemId\":740}},\"children\":[]},{\"name\":\"理事長室の壁\",\"objectInfo\":{\"id\":8,\"type\":\"OCIItem\",\"transform\":{\"pos\":[-2.38418636E-07,2.52527714,0.0],\"rot\":[5.00895658E-06,180.0,270.0],\"scale\":[1.0,0.8,1.0]},\"itemDetail\":{\"group\":1,\"category\":118,\"itemId\":2096}},\"children\":[]},{\"name\":\"部屋のドア\",\"objectInfo\":{\"id\":306,\"type\":\"OCIItem\",\"transform\":{\"pos\":[-0.07229187,3.55,0.0800628662],\"rot\":[0.0,0.0,90.0],\"scale\":[0.8,0.8,1.0]},\"itemDetail\":{\"group\":1,\"category\":118,\"itemId\":2105}},\"children\":[]},{\"name\":\"部屋のドア\",\"objectInfo\":{\"id\":9,\"type\":\"OCIItem\",\"transform\":{\"pos\":[-0.07229187,3.55,-0.08646774],\"rot\":[180.0,0.0,90.0],\"scale\":[0.8,0.8,1.0]},\"itemDetail\":{\"group\":1,\"category\":118,\"itemId\":2105}},\"children\":[]}]}]},{\"name\":\"床\",\"objectInfo\":{\"id\":301,\"type\":\"OCIFolder\",\"transform\":{\"pos\":[0.0,0.0,0.0],\"rot\":[0.0,0.0,0.0],\"scale\":[1.0,1.0,1.0]},\"itemDetail\":null},\"children\":[{\"name\":\"理事長室の床\",\"objectInfo\":{\"id\":302,\"type\":\"OCIItem\",\"transform\":{\"pos\":[0.0,0.0,0.0],\"rot\":[0.0,0.0,0.0],\"scale\":[1.0,1.0,1.0]},\"itemDetail\":{\"group\":1,\"category\":118,\"itemId\":2098}},\"children\":[]},{\"name\":\"理事長室の床\",\"objectInfo\":{\"id\":303,\"type\":\"OCIItem\",\"transform\":{\"pos\":[0.0,0.0,0.0],\"rot\":[0.0,90.0,0.0],\"scale\":[1.0,1.0,1.0]},\"itemDetail\":{\"group\":1,\"category\":118,\"itemId\":2098}},\"children\":[]},{\"name\":\"理事長室の床\",\"objectInfo\":{\"id\":304,\"type\":\"OCIItem\",\"transform\":{\"pos\":[0.0,0.0,0.0],\"rot\":[0.0,180.0,0.0],\"scale\":[1.0,1.0,1.0]},\"itemDetail\":{\"group\":1,\"category\":118,\"itemId\":2098}},\"children\":[]},{\"name\":\"理事長室の床\",\"objectInfo\":{\"id\":305,\"type\":\"OCIItem\",\"transform\":{\"pos\":[0.0,0.0,0.0],\"rot\":[0.0,270.0,0.0],\"scale\":[1.0,1.0,1.0]},\"itemDetail\":{\"group\":1,\"category\":118,\"itemId\":2098}},\"children\":[]},{\"name\":\"理事長室の床\",\"objectInfo\":{\"id\":311,\"type\":\"OCIItem\",\"transform\":{\"pos\":[-1.66893E-06,0.0,5.999998],\"rot\":[0.0,0.0,0.0],\"scale\":[1.0,1.0,1.0]},\"itemDetail\":{\"group\":1,\"category\":118,\"itemId\":2098}},\"children\":[]},{\"name\":\"理事長室の床\",\"objectInfo\":{\"id\":327,\"type\":\"OCIItem\",\"transform\":{\"pos\":[-1.66893E-06,0.0,5.999998],\"rot\":[0.0,270.0,0.0],\"scale\":[1.0,1.0,1.0]},\"itemDetail\":{\"group\":1,\"category\":118,\"itemId\":2098}},\"children\":[]}]},{\"name\":\"天井\",\"objectInfo\":{\"id\":318,\"type\":\"OCIFolder\",\"transform\":{\"pos\":[3.00000381,2.30000019,6.0],\"rot\":[0.0,0.0,0.0],\"scale\":[1.0,1.0,1.0]},\"itemDetail\":null},\"children\":[{\"name\":\"理事長室の天井\",\"objectInfo\":{\"id\":321,\"type\":\"OCIItem\",\"transform\":{\"pos\":[0.0,0.0,-3.0],\"rot\":[0.0,0.0,0.0],\"scale\":[1.0,1.0,1.0]},\"itemDetail\":{\"group\":1,\"category\":118,\"itemId\":2097}},\"children\":[]},{\"name\":\"理事長室の天井\",\"objectInfo\":{\"id\":322,\"type\":\"OCIItem\",\"transform\":{\"pos\":[-3.0,0.0,-3.0],\"rot\":[0.0,0.0,0.0],\"scale\":[1.0,1.0,1.0]},\"itemDetail\":{\"group\":1,\"category\":118,\"itemId\":2097}},\"children\":[]},{\"name\":\"理事長室の天井\",\"objectInfo\":{\"id\":323,\"type\":\"OCIItem\",\"transform\":{\"pos\":[0.0,0.0,-6.0],\"rot\":[0.0,0.0,0.0],\"scale\":[1.0,1.0,1.0]},\"itemDetail\":{\"group\":1,\"category\":118,\"itemId\":2097}},\"children\":[]},{\"name\":\"理事長室の天井\",\"objectInfo\":{\"id\":324,\"type\":\"OCIItem\",\"transform\":{\"pos\":[-3.0,0.0,-6.0],\"rot\":[0.0,0.0,0.0],\"scale\":[1.0,1.0,1.0]},\"itemDetail\":{\"group\":1,\"category\":118,\"itemId\":2097}},\"children\":[]},{\"name\":\"理事長室の天井\",\"objectInfo\":{\"id\":328,\"type\":\"OCIItem\",\"transform\":{\"pos\":[0.0,0.0,0.0],\"rot\":[0.0,0.0,0.0],\"scale\":[1.0,1.0,1.0]},\"itemDetail\":{\"group\":1,\"category\":118,\"itemId\":2097}},\"children\":[]},{\"name\":\"理事長室の天井\",\"objectInfo\":{\"id\":330,\"type\":\"OCIItem\",\"transform\":{\"pos\":[-3.0,0.0,0.0],\"rot\":[0.0,0.0,0.0],\"scale\":[1.0,1.0,1.0]},\"itemDetail\":{\"group\":1,\"category\":118,\"itemId\":2097}},\"children\":[]}]},{\"name\":\"カーテン\",\"objectInfo\":{\"id\":358,\"type\":\"OCIFolder\",\"transform\":{\"pos\":[3.0,0.0,3.81469727E-06],\"rot\":[0.0,0.0,0.0],\"scale\":[1.0,1.0,1.0]},\"itemDetail\":null},\"children\":[{\"name\":\"カーテン左\",\"objectInfo\":{\"id\":346,\"type\":\"OCIFolder\",\"transform\":{\"pos\":[-4.499999,2.2,-2.800003],\"rot\":[0.0,0.0,0.0],\"scale\":[1.0,1.0,1.0]},\"itemDetail\":null},\"children\":[{\"name\":\"カーテン1\",\"objectInfo\":{\"id\":345,\"type\":\"OCIItem\",\"transform\":{\"pos\":[0.7,0.0,-3.09944153E-06],\"rot\":[0.0,0.0,0.0],\"scale\":[0.75,0.95,1.0]},\"itemDetail\":{\"group\":2,\"category\":14,\"itemId\":88}},\"children\":[]},{\"name\":\"カーテン1\",\"objectInfo\":{\"id\":344,\"type\":\"OCIItem\",\"transform\":{\"pos\":[-0.7,0.0,-3.09944153E-06],\"rot\":[0.0,0.0,0.0],\"scale\":[0.75,0.95,1.0]},\"itemDetail\":{\"group\":2,\"category\":14,\"itemId\":88}},\"children\":[]}]},{\"name\":\"カーテン左中\",\"objectInfo\":{\"id\":347,\"type\":\"OCIFolder\",\"transform\":{\"pos\":[-5.8,2.2,-1.36669922],\"rot\":[0.0,90.0,0.0],\"scale\":[1.0,1.0,1.0]},\"itemDetail\":null},\"children\":[{\"name\":\"カーテン1\",\"objectInfo\":{\"id\":348,\"type\":\"OCIItem\",\"transform\":{\"pos\":[0.7,0.0,-3.09944153E-06],\"rot\":[0.0,0.0,0.0],\"scale\":[0.75,0.95,1.0]},\"itemDetail\":{\"group\":2,\"category\":14,\"itemId\":88}},\"children\":[]},{\"name\":\"カーテン1\",\"objectInfo\":{\"id\":349,\"type\":\"OCIItem\",\"transform\":{\"pos\":[-0.7,0.0,-3.09944153E-06],\"rot\":[0.0,0.0,0.0],\"scale\":[0.75,0.95,1.0]},\"itemDetail\":{\"group\":2,\"category\":14,\"itemId\":88}},\"children\":[]},{\"name\":\"カーテン1\",\"objectInfo\":{\"id\":350,\"type\":\"OCIItem\",\"transform\":{\"pos\":[-2.1,0.0,-4.05311675E-06],\"rot\":[0.0,0.0,0.0],\"scale\":[0.75,0.95,1.0]},\"itemDetail\":{\"group\":2,\"category\":14,\"itemId\":88}},\"children\":[]}]},{\"name\":\"カーテン右中\",\"objectInfo\":{\"id\":351,\"type\":\"OCIFolder\",\"transform\":{\"pos\":[-5.8,2.2,3.00043488],\"rot\":[0.0,90.0,0.0],\"scale\":[1.0,1.0,1.0]},\"itemDetail\":null},\"children\":[{\"name\":\"カーテン1\",\"objectInfo\":{\"id\":352,\"type\":\"OCIItem\",\"transform\":{\"pos\":[0.7,0.0,-3.09944153E-06],\"rot\":[0.0,0.0,0.0],\"scale\":[0.75,0.95,1.0]},\"itemDetail\":{\"group\":2,\"category\":14,\"itemId\":88}},\"children\":[]},{\"name\":\"カーテン1\",\"objectInfo\":{\"id\":353,\"type\":\"OCIItem\",\"transform\":{\"pos\":[-0.7,0.0,-3.09944153E-06],\"rot\":[0.0,0.0,0.0],\"scale\":[0.75,0.95,1.0]},\"itemDetail\":{\"group\":2,\"category\":14,\"itemId\":88}},\"children\":[]},{\"name\":\"カーテン1\",\"objectInfo\":{\"id\":354,\"type\":\"OCIItem\",\"transform\":{\"pos\":[-2.09283257,0.0,0.0],\"rot\":[0.0,0.0,0.0],\"scale\":[0.75,0.95,1.0]},\"itemDetail\":{\"group\":2,\"category\":14,\"itemId\":88}},\"children\":[]}]},{\"name\":\"カーテン右\",\"objectInfo\":{\"id\":355,\"type\":\"OCIFolder\",\"transform\":{\"pos\":[-4.5,2.200016,5.69999838],\"rot\":[0.0,180.0,0.0],\"scale\":[1.0,1.0,1.0]},\"itemDetail\":null},\"children\":[{\"name\":\"カーテン1\",\"objectInfo\":{\"id\":356,\"type\":\"OCIItem\",\"transform\":{\"pos\":[0.7,0.0,-3.09944153E-06],\"rot\":[0.0,0.0,0.0],\"scale\":[0.75,0.95,1.0]},\"itemDetail\":{\"group\":2,\"category\":14,\"itemId\":88}},\"children\":[]},{\"name\":\"カーテン1\",\"objectInfo\":{\"id\":357,\"type\":\"OCIItem\",\"transform\":{\"pos\":[-0.7,0.0,-3.09944153E-06],\"rot\":[0.0,0.0,0.0],\"scale\":[0.75,0.95,1.0]},\"itemDetail\":{\"group\":2,\"category\":14,\"itemId\":88}},\"children\":[]}]},{\"name\":\"内壁カーテン\",\"objectInfo\":{\"id\":10,\"type\":\"OCIFolder\",\"transform\":{\"pos\":[-4.017639,2.200015,1.58400822],\"rot\":[0.0,0.0,0.0],\"scale\":[1.0,1.0,1.0]},\"itemDetail\":null},\"children\":[{\"name\":\"カーテン1\",\"objectInfo\":{\"id\":11,\"type\":\"OCIItem\",\"transform\":{\"pos\":[1.0,0.0,-3.09944153E-06],\"rot\":[0.0,0.0,0.0],\"scale\":[0.95,0.95,1.0]},\"itemDetail\":{\"group\":2,\"category\":14,\"itemId\":88}},\"children\":[]},{\"name\":\"カーテン1\",\"objectInfo\":{\"id\":12,\"type\":\"OCIItem\",\"transform\":{\"pos\":[-0.8899877,0.0,-0.02300644],\"rot\":[0.0,0.0,0.0],\"scale\":[0.95,0.95,1.0]},\"itemDetail\":{\"group\":2,\"category\":14,\"itemId\":88}},\"children\":[]}]}]},{\"name\":\"ポイントライト\",\"objectInfo\":{\"id\":49,\"type\":\"OCILight\",\"transform\":{\"pos\":[-2.00109673,1.18778324,5.083721],\"rot\":[0.0,0.0,0.0],\"scale\":[1.0,1.0,1.0]},\"itemDetail\":null},\"children\":[]}]},{\"name\":\"スフィア(通常）\",\"objectInfo\":{\"id\":5,\"type\":\"OCIItem\",\"transform\":{\"pos\":[-0.07363355,0.711534441,1.96424425],\"rot\":[0.0,0.0,0.0],\"scale\":[1.0,1.0,1.0]},\"itemDetail\":{\"group\":0,\"category\":0,\"itemId\":0}},\"children\":[]},{\"name\":\"全体光\",\"objectInfo\":{\"id\":14,\"type\":\"OCILight\",\"transform\":{\"pos\":[-0.07363355,0.711534441,1.96424425],\"rot\":[0.0,0.0,0.0],\"scale\":[1.0,1.0,1.0]},\"itemDetail\":null},\"children\":[]},{\"name\":\"ポイントライト\",\"objectInfo\":{\"id\":15,\"type\":\"OCILight\",\"transform\":{\"pos\":[-0.07363355,0.711534441,1.96424425],\"rot\":[0.0,0.0,0.0],\"scale\":[1.0,1.0,1.0]},\"itemDetail\":null},\"children\":[]},{\"name\":\"スポットライト\",\"objectInfo\":{\"id\":16,\"type\":\"OCILight\",\"transform\":{\"pos\":[-0.07363355,0.711534441,1.96424425],\"rot\":[0.0,0.0,0.0],\"scale\":[1.0,1.0,1.0]},\"itemDetail\":null},\"children\":[]},{\"name\":\"黒木 エリカ\",\"objectInfo\":{\"id\":17,\"type\":\"OCICharFemale\",\"transform\":{\"pos\":[-0.07363355,0.711534441,1.96424425],\"rot\":[0.0,0.0,0.0],\"scale\":[1.0,1.0,1.0]},\"itemDetail\":null},\"children\":[]}],\"message\":null,\"type\":\"success\"}\n"
     ]
    }
   ],
   "source": [
    "payload = {\n",
    "    \"type\": \"tree\",\n",
    "}\n",
    "\n",
    "await websocket_test(payload)"
   ]
  },
  {
   "cell_type": "markdown",
   "id": "765358bf",
   "metadata": {},
   "source": [
    "## update"
   ]
  },
  {
   "cell_type": "code",
   "execution_count": 8,
   "id": "b3502fac",
   "metadata": {},
   "outputs": [
    {
     "name": "stdout",
     "output_type": "stream",
     "text": [
      "✅ send: {'type': 'update', 'command': 'transform', 'id': 0, 'pos': [0.0, 0.0, 0.0], 'rot': [0.0, 0.0, 0.0], 'scale': [1.0, 1.0, 1.0]}\n",
      "📨 recv: {\"message\":\"Transform updated for object ID 0\",\"type\":\"success\"}\n"
     ]
    }
   ],
   "source": [
    "payload = {\n",
    "  \"type\": \"update\",\n",
    "  \"command\": \"transform\",\n",
    "  \"id\": 0,\n",
    "  \"pos\": [0.0, 0.0, 0.0],\n",
    "  \"rot\": [0.0, 0.0, 0.0],\n",
    "  \"scale\": [1.0, 1.0, 1.0]\n",
    "}\n",
    "\n",
    "await websocket_test(payload)"
   ]
  },
  {
   "cell_type": "markdown",
   "id": "a83a19dc",
   "metadata": {},
   "source": [
    "## delete"
   ]
  },
  {
   "cell_type": "code",
   "execution_count": 9,
   "id": "99a48bd2",
   "metadata": {},
   "outputs": [
    {
     "name": "stdout",
     "output_type": "stream",
     "text": [
      "✅ send: {'type': 'delete', 'id': 0}\n",
      "📨 recv: {\"message\":\"Object 0 deleted successfully\",\"type\":\"success\"}\n"
     ]
    }
   ],
   "source": [
    "payload = {\n",
    "  \"type\": \"delete\",\n",
    "  \"id\": 0,\n",
    "}\n",
    "await websocket_test(payload)"
   ]
  }
 ],
 "metadata": {
  "kernelspec": {
   "display_name": ".venv",
   "language": "python",
   "name": "python3"
  },
  "language_info": {
   "codemirror_mode": {
    "name": "ipython",
    "version": 3
   },
   "file_extension": ".py",
   "mimetype": "text/x-python",
   "name": "python",
   "nbconvert_exporter": "python",
   "pygments_lexer": "ipython3",
   "version": "3.12.5"
  }
 },
 "nbformat": 4,
 "nbformat_minor": 5
}
