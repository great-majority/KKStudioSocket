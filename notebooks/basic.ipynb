{
 "cells": [
  {
   "cell_type": "code",
   "execution_count": 10,
   "id": "809ffb41",
   "metadata": {},
   "outputs": [],
   "source": [
    "import time\n",
    "import json\n",
    "import nest_asyncio\n",
    "import asyncio\n",
    "import websockets\n",
    "nest_asyncio.apply()"
   ]
  },
  {
   "cell_type": "code",
   "execution_count": 11,
   "id": "f84a6630",
   "metadata": {},
   "outputs": [],
   "source": [
    "async def websocket_test(payload):\n",
    "    uri = \"ws://127.0.0.1:8765/ws\"\n",
    "    async with websockets.connect(uri) as ws:\n",
    "        await ws.send(json.dumps(payload))\n",
    "        print(\"✅ send:\", payload)\n",
    "\n",
    "        try:\n",
    "            # 5 秒以内に返事が来なければ TimeoutError\n",
    "            response = await asyncio.wait_for(ws.recv(), timeout=5)\n",
    "            print(\"📨 recv:\", response)\n",
    "        except asyncio.TimeoutError:\n",
    "            print(\"⏰ タイムアウト（5 秒以内にメッセージが来ませんでした）\")"
   ]
  },
  {
   "cell_type": "markdown",
   "id": "8b403757",
   "metadata": {},
   "source": [
    "## ping"
   ]
  },
  {
   "cell_type": "code",
   "execution_count": 12,
   "id": "c03eed80",
   "metadata": {},
   "outputs": [
    {
     "name": "stdout",
     "output_type": "stream",
     "text": [
      "✅ send: {'type': 'ping', 'message': 'test', 'timestamp': '1750602930'}\n",
      "📨 recv: {\"type\":\"pong\",\"message\":\"test\",\"timestamp\":1750602930360}\n"
     ]
    }
   ],
   "source": [
    "payload = {\n",
    "    \"type\": \"ping\",\n",
    "    \"message\": \"test\",\n",
    "    \"timestamp\": str(int(time.time())),\n",
    "}\n",
    "\n",
    "await websocket_test(payload)\n"
   ]
  },
  {
   "cell_type": "markdown",
   "id": "7b0d566a",
   "metadata": {},
   "source": [
    "## add\n",
    "\n",
    "### item"
   ]
  },
  {
   "cell_type": "code",
   "execution_count": 13,
   "id": "35104784",
   "metadata": {},
   "outputs": [
    {
     "name": "stdout",
     "output_type": "stream",
     "text": [
      "✅ send: {'type': 'add', 'command': 'item', 'group': 0, 'category': 0, 'itemId': 0}\n",
      "📨 recv: {\"type\":\"success\",\"message\":\"Item added successfully: group=0, category=0, itemId=0\",\"objectId\":0}\n"
     ]
    }
   ],
   "source": [
    "payload = {\n",
    "    \"type\": \"add\",\n",
    "    \"command\": \"item\",\n",
    "    # スフィア(通常)\n",
    "    \"group\": 0,\n",
    "    \"category\": 0,\n",
    "    \"itemId\": 0,\n",
    "}\n",
    "\n",
    "await websocket_test(payload)"
   ]
  },
  {
   "cell_type": "markdown",
   "id": "036b5992",
   "metadata": {},
   "source": [
    "### light"
   ]
  },
  {
   "cell_type": "code",
   "execution_count": 14,
   "id": "412f8bed",
   "metadata": {},
   "outputs": [
    {
     "name": "stdout",
     "output_type": "stream",
     "text": [
      "✅ send: {'type': 'add', 'command': 'light', 'LightId': 0}\n",
      "📨 recv: {\"type\":\"success\",\"message\":\"Light added successfully: lightId=0\",\"objectId\":2}\n",
      "✅ send: {'type': 'add', 'command': 'light', 'LightId': 1}\n",
      "📨 recv: {\"type\":\"success\",\"message\":\"Light added successfully: lightId=1\",\"objectId\":3}\n",
      "✅ send: {'type': 'add', 'command': 'light', 'LightId': 2}\n",
      "📨 recv: {\"type\":\"success\",\"message\":\"Light added successfully: lightId=2\",\"objectId\":4}\n"
     ]
    }
   ],
   "source": [
    "payload = {\n",
    "    \"type\": \"add\",\n",
    "    \"command\": \"light\",\n",
    "    \"LightId\": 0, # 全体光\n",
    "}\n",
    "\n",
    "await websocket_test(payload)\n",
    "\n",
    "payload = {\n",
    "    \"type\": \"add\",\n",
    "    \"command\": \"light\",\n",
    "    \"LightId\": 1, # ポイントライト\n",
    "}\n",
    "\n",
    "await websocket_test(payload)\n",
    "\n",
    "payload = {\n",
    "    \"type\": \"add\",\n",
    "    \"command\": \"light\",\n",
    "    \"LightId\": 2, # スポットライト\n",
    "}\n",
    "\n",
    "await websocket_test(payload)"
   ]
  },
  {
   "cell_type": "markdown",
   "id": "d28072c0",
   "metadata": {},
   "source": [
    "### chara"
   ]
  },
  {
   "cell_type": "code",
   "execution_count": 15,
   "id": "6a2a32da",
   "metadata": {},
   "outputs": [
    {
     "name": "stdout",
     "output_type": "stream",
     "text": [
      "✅ send: {'type': 'add', 'command': 'character', 'sex': 'female', 'path': 'C:\\\\illusion\\\\KoikatsuSunshine_HF\\\\UserData\\\\chara\\\\female\\\\after.png'}\n",
      "📨 recv: {\"type\":\"success\",\"message\":\"Female character added successfully: C:\\\\illusion\\\\KoikatsuSunshine_HF\\\\UserData\\\\chara\\\\female\\\\after.png\",\"objectId\":5}\n"
     ]
    }
   ],
   "source": [
    "payload = {\n",
    "    \"type\": \"add\",\n",
    "    \"command\": \"character\",\n",
    "    \"sex\": \"female\",\n",
    "    \"path\": r\"C:\\illusion\\KoikatsuSunshine_HF\\UserData\\chara\\female\\after.png\"\n",
    "}\n",
    "\n",
    "await websocket_test(payload)"
   ]
  },
  {
   "cell_type": "markdown",
   "id": "680f7b96",
   "metadata": {},
   "source": [
    "## tree"
   ]
  },
  {
   "cell_type": "code",
   "execution_count": 7,
   "id": "86b4fe78",
   "metadata": {},
   "outputs": [
    {
     "name": "stdout",
     "output_type": "stream",
     "text": [
      "✅ send: {'type': 'tree'}\n",
      "📨 recv: [{\"name\":\"スフィア(通常）\",\"objectInfo\":{\"id\":0,\"type\":\"OCIItem\"},\"children\":[]},{\"name\":\"全体光\",\"objectInfo\":{\"id\":2,\"type\":\"OCILight\"},\"children\":[]},{\"name\":\"ポイントライト\",\"objectInfo\":{\"id\":3,\"type\":\"OCILight\"},\"children\":[]},{\"name\":\"スポットライト\",\"objectInfo\":{\"id\":4,\"type\":\"OCILight\"},\"children\":[]},{\"name\":\"黒木 エリカ\",\"objectInfo\":{\"id\":5,\"type\":\"OCICharFemale\"},\"children\":[]}]\n"
     ]
    }
   ],
   "source": [
    "payload = {\n",
    "    \"type\": \"tree\",\n",
    "}\n",
    "\n",
    "await websocket_test(payload)"
   ]
  },
  {
   "cell_type": "markdown",
   "id": "765358bf",
   "metadata": {},
   "source": [
    "## update"
   ]
  },
  {
   "cell_type": "code",
   "execution_count": 8,
   "id": "b3502fac",
   "metadata": {},
   "outputs": [
    {
     "name": "stdout",
     "output_type": "stream",
     "text": [
      "✅ send: {'type': 'update', 'command': 'transform', 'id': 0, 'pos': [0.0, 0.0, 0.0], 'rot': [0.0, 0.0, 0.0], 'scale': [1.0, 1.0, 1.0]}\n",
      "📨 recv: {\"type\":\"success\",\"message\":\"Transform updated for object ID 0\"}\n"
     ]
    }
   ],
   "source": [
    "payload = {\n",
    "  \"type\": \"update\",\n",
    "  \"command\": \"transform\",\n",
    "  \"id\": 0,\n",
    "  \"pos\": [0.0, 0.0, 0.0],\n",
    "  \"rot\": [0.0, 0.0, 0.0],\n",
    "  \"scale\": [1.0, 1.0, 1.0]\n",
    "}\n",
    "\n",
    "await websocket_test(payload)"
   ]
  },
  {
   "cell_type": "markdown",
   "id": "a83a19dc",
   "metadata": {},
   "source": [
    "## delete"
   ]
  },
  {
   "cell_type": "code",
   "execution_count": 9,
   "id": "99a48bd2",
   "metadata": {},
   "outputs": [
    {
     "name": "stdout",
     "output_type": "stream",
     "text": [
      "✅ send: {'type': 'delete', 'id': 0}\n",
      "📨 recv: {\"type\":\"success\",\"message\":\"Object 0 deleted successfully\"}\n"
     ]
    }
   ],
   "source": [
    "payload = {\n",
    "  \"type\": \"delete\",\n",
    "  \"id\": 0,\n",
    "}\n",
    "await websocket_test(payload)"
   ]
  }
 ],
 "metadata": {
  "kernelspec": {
   "display_name": ".venv",
   "language": "python",
   "name": "python3"
  },
  "language_info": {
   "codemirror_mode": {
    "name": "ipython",
    "version": 3
   },
   "file_extension": ".py",
   "mimetype": "text/x-python",
   "name": "python",
   "nbconvert_exporter": "python",
   "pygments_lexer": "ipython3",
   "version": "3.12.5"
  }
 },
 "nbformat": 4,
 "nbformat_minor": 5
}
