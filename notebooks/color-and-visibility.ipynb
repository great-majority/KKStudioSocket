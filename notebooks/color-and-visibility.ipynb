{
 "cells": [
  {
   "cell_type": "code",
   "execution_count": 1,
   "id": "4d9e8b48",
   "metadata": {},
   "outputs": [],
   "source": [
    "import time\n",
    "import json\n",
    "import math\n",
    "import numpy as np\n",
    "import nest_asyncio\n",
    "import asyncio\n",
    "import websockets\n",
    "nest_asyncio.apply()"
   ]
  },
  {
   "cell_type": "code",
   "execution_count": 2,
   "id": "8935c76e",
   "metadata": {},
   "outputs": [],
   "source": [
    "async def websocket_test(payload, indent=None):\n",
    "    uri = \"ws://127.0.0.1:8765/ws\"\n",
    "    async with websockets.connect(uri) as ws:\n",
    "        await ws.send(json.dumps(payload))\n",
    "        print(\"✅ send:\", payload)\n",
    "\n",
    "        try:\n",
    "            # 5 秒以内に返事が来なければ TimeoutError\n",
    "            response = await asyncio.wait_for(ws.recv(), timeout=5)\n",
    "            if indent:\n",
    "                print(\"📨 recv: \", json.dumps(json.loads(response), indent=indent, ensure_ascii=False))\n",
    "                return json.loads(response)\n",
    "            else:\n",
    "                print(\"📨 recv:\", response)\n",
    "                return json.loads(response)\n",
    "        except asyncio.TimeoutError:\n",
    "            print(\"⏰ タイムアウト（5 秒以内にメッセージが来ませんでした）\")"
   ]
  },
  {
   "cell_type": "code",
   "execution_count": 5,
   "id": "f865cb0f",
   "metadata": {},
   "outputs": [
    {
     "name": "stdout",
     "output_type": "stream",
     "text": [
      "✅ send: {'type': 'add', 'command': 'item', 'group': 0, 'category': 0, 'itemId': 1}\n",
      "📨 recv: {\"objectId\":0,\"message\":\"Item added successfully: group=0, category=0, itemId=1\",\"type\":\"success\"}\n"
     ]
    },
    {
     "data": {
      "text/plain": [
       "{'objectId': 0,\n",
       " 'message': 'Item added successfully: group=0, category=0, itemId=1',\n",
       " 'type': 'success'}"
      ]
     },
     "execution_count": 5,
     "metadata": {},
     "output_type": "execute_result"
    }
   ],
   "source": [
    "payload = {\n",
    "    \"type\": \"add\",\n",
    "    \"command\": \"item\",\n",
    "    \"group\": 0,\n",
    "    \"category\": 0,\n",
    "    \"itemId\": 1,\n",
    "}\n",
    "\n",
    "await websocket_test(payload)"
   ]
  },
  {
   "cell_type": "code",
   "execution_count": 6,
   "id": "a7c67da0",
   "metadata": {},
   "outputs": [
    {
     "name": "stdout",
     "output_type": "stream",
     "text": [
      "✅ send: {'type': 'update', 'command': 'color', 'id': 0, 'color': [1.0, 0.0, 0.0, 1.0], 'alpha': 1.0, 'colorIndex': 0}\n",
      "📨 recv: {\"message\":\"Color updated for item ID 0\",\"type\":\"success\"}\n",
      "✅ send: {'type': 'update', 'command': 'color', 'id': 0, 'color': [1.0, 1.0, 0.0, 1.0], 'alpha': 1.0, 'colorIndex': 3}\n",
      "📨 recv: {\"message\":\"Color updated for item ID 0\",\"type\":\"success\"}\n",
      "✅ send: {'type': 'update', 'command': 'color', 'id': 0, 'color': [0.0, 0.0, 0.0, 1.0], 'alpha': 1.0, 'colorIndex': 6}\n",
      "📨 recv: {\"message\":\"Color updated for item ID 0\",\"type\":\"success\"}\n"
     ]
    },
    {
     "data": {
      "text/plain": [
       "{'message': 'Color updated for item ID 0', 'type': 'success'}"
      ]
     },
     "execution_count": 6,
     "metadata": {},
     "output_type": "execute_result"
    }
   ],
   "source": [
    "payload = {\n",
    "    \"type\": \"update\",\n",
    "    \"command\": \"color\",\n",
    "    \"id\": 0,\n",
    "    \"color\": [1.0, 0.0, 0.0, 1.0],\n",
    "    \"alpha\": 1.0,\n",
    "    \"colorIndex\": 0\n",
    "}\n",
    "await websocket_test(payload)\n",
    "\n",
    "payload = {\n",
    "    \"type\": \"update\",\n",
    "    \"command\": \"color\",\n",
    "    \"id\": 0,\n",
    "    \"color\": [1.0, 1.0, 0.0, 1.0],\n",
    "    \"alpha\": 1.0,\n",
    "    \"colorIndex\": 3\n",
    "}\n",
    "await websocket_test(payload)\n",
    "\n",
    "payload = {\n",
    "    \"type\": \"update\",\n",
    "    \"command\": \"color\",\n",
    "    \"id\": 0,\n",
    "    \"color\": [0.0, 0.0, 0.0, 1.0],\n",
    "    \"alpha\": 1.0,\n",
    "    \"colorIndex\": 6\n",
    "}\n",
    "await websocket_test(payload)"
   ]
  },
  {
   "cell_type": "markdown",
   "id": "353f13d4",
   "metadata": {},
   "source": [
    "## visibility"
   ]
  },
  {
   "cell_type": "code",
   "execution_count": 7,
   "id": "124f6dca",
   "metadata": {},
   "outputs": [
    {
     "name": "stdout",
     "output_type": "stream",
     "text": [
      "✅ send: {'type': 'update', 'command': 'visibility', 'id': 0, 'visible': False}\n",
      "📨 recv: {\"message\":\"Visibility updated for object ID 0\",\"type\":\"success\"}\n"
     ]
    },
    {
     "data": {
      "text/plain": [
       "{'message': 'Visibility updated for object ID 0', 'type': 'success'}"
      ]
     },
     "execution_count": 7,
     "metadata": {},
     "output_type": "execute_result"
    }
   ],
   "source": [
    "payload = {\n",
    "    \"type\": \"update\",\n",
    "    \"command\": \"visibility\",\n",
    "    \"id\": 0,\n",
    "    \"visible\": False,\n",
    "}\n",
    "await websocket_test(payload)"
   ]
  },
  {
   "cell_type": "code",
   "execution_count": 8,
   "id": "3ead50d1",
   "metadata": {},
   "outputs": [
    {
     "name": "stdout",
     "output_type": "stream",
     "text": [
      "✅ send: {'type': 'update', 'command': 'visibility', 'id': 0, 'visible': True}\n",
      "📨 recv: {\"message\":\"Visibility updated for object ID 0\",\"type\":\"success\"}\n"
     ]
    },
    {
     "data": {
      "text/plain": [
       "{'message': 'Visibility updated for object ID 0', 'type': 'success'}"
      ]
     },
     "execution_count": 8,
     "metadata": {},
     "output_type": "execute_result"
    }
   ],
   "source": [
    "payload = {\n",
    "    \"type\": \"update\",\n",
    "    \"command\": \"visibility\",\n",
    "    \"id\": 0,\n",
    "    \"visible\": True,\n",
    "}\n",
    "await websocket_test(payload)"
   ]
  }
 ],
 "metadata": {
  "kernelspec": {
   "display_name": ".venv",
   "language": "python",
   "name": "python3"
  },
  "language_info": {
   "codemirror_mode": {
    "name": "ipython",
    "version": 3
   },
   "file_extension": ".py",
   "mimetype": "text/x-python",
   "name": "python",
   "nbconvert_exporter": "python",
   "pygments_lexer": "ipython3",
   "version": "3.12.5"
  }
 },
 "nbformat": 4,
 "nbformat_minor": 5
}
